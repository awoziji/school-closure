{
 "cells": [
  {
   "cell_type": "markdown",
   "metadata": {},
   "source": [
    "### Project McNulty: Clean NCES-CCD School Closure Data for Modeling\n",
    "\n",
    "**Task**: Given School Characteristics and Performance, can we predict the risk of closure?"
   ]
  },
  {
   "cell_type": "code",
   "execution_count": 1,
   "metadata": {
    "collapsed": false
   },
   "outputs": [],
   "source": [
    "import numpy as np\n",
    "import pandas as pd\n",
    "from matplotlib import pyplot as plt\n",
    "from collections import defaultdict\n",
    "%matplotlib inline"
   ]
  },
  {
   "cell_type": "code",
   "execution_count": 2,
   "metadata": {
    "collapsed": false
   },
   "outputs": [
    {
     "name": "stdout",
     "output_type": "stream",
     "text": [
      "(90969, 19)\n"
     ]
    },
    {
     "name": "stderr",
     "output_type": "stream",
     "text": [
      "/Users/willhuguenin/anaconda/lib/python2.7/site-packages/IPython/core/interactiveshell.py:2902: DtypeWarning: Columns (4,5,8,17,21,24,26,33,34,35) have mixed types. Specify dtype option on import or set low_memory=False.\n",
      "  interactivity=interactivity, compiler=compiler, result=result)\n"
     ]
    }
   ],
   "source": [
    "#Read-In NCES-CCD School Characteristics Data (for BY 2009-10)\n",
    "variables=[\"NCESSCH\",\"LEAID\",\"LEANM09\",\"SCHNAM09\",\"LSTATE09\",\"LEVEL09\",\"TYPE09\",\\\n",
    "           \"STATUS09\",\"ULOCAL09\",\"FTE09\",\"TITLEI09\",\"STITLI09\",\"MAGNET09\",\"CHARTR09\",\\\n",
    "           \"SHARED09\",\"TOTFRL09\",\"MEMBER09\",\"WHITE09\",\"TOTETH09\"]\n",
    "\n",
    "#Remove \"09s\" from end of variables names\n",
    "vardict=defaultdict(str)\n",
    "\n",
    "for variable in variables:\n",
    "    if variable[-2:]==\"09\":\n",
    "        vardict[variable]=variable[:-2]\n",
    "\n",
    "#Read-In File and Subset to Only Operational Schools\n",
    "school=pd.read_table(\"data/ccd/2009-10/sc092a.txt\")[variables]\n",
    "school.rename(columns=vardict, inplace=True)\n",
    "school=school[(school.TYPE==1) & (school.STATUS.isin([1,3,4,5,8]))]\n",
    "\n",
    "print school.shape"
   ]
  },
  {
   "cell_type": "code",
   "execution_count": 3,
   "metadata": {
    "collapsed": true
   },
   "outputs": [],
   "source": [
    "#Function to Print Percentiles (for Cleaning)\n",
    "def percentiles(df, variable):\n",
    "    print \"Min:  \"+str(df[variable].quantile(q=0.00))\n",
    "    print \"1st:  \"+str(df[variable].quantile(q=0.01))\n",
    "    print \"5th:  \"+str(df[variable].quantile(q=0.05))\n",
    "    print \"10th: \"+str(df[variable].quantile(q=0.10))\n",
    "    print \"25th: \"+str(df[variable].quantile(q=0.25))\n",
    "    print \"50th: \"+str(df[variable].quantile(q=0.50))\n",
    "    print \"75th: \"+str(df[variable].quantile(q=0.75))\n",
    "    print \"90th: \"+str(df[variable].quantile(q=0.90))\n",
    "    print \"95th: \"+str(df[variable].quantile(q=0.95))\n",
    "    print \"99th: \"+str(df[variable].quantile(q=0.99))\n",
    "    print \"Max:  \"+str(df[variable].quantile(q=1.00))"
   ]
  },
  {
   "cell_type": "code",
   "execution_count": 4,
   "metadata": {
    "collapsed": false
   },
   "outputs": [
    {
     "name": "stdout",
     "output_type": "stream",
     "text": [
      "1    90969\n",
      "dtype: int64\n",
      "CITY        0      1\n",
      "ULOCAL              \n",
      "11          0  12026\n",
      "12          0   4977\n",
      "13          0   5984\n",
      "21      21103      0\n",
      "22       2670      0\n",
      "23       1742      0\n",
      "31       1775      0\n",
      "32       6151      0\n",
      "33       4301      0\n",
      "41      12116      0\n",
      "42      10964      0\n",
      "43       6695      0\n",
      "SUBURB      0      1\n",
      "ULOCAL              \n",
      "11      12026      0\n",
      "12       4977      0\n",
      "13       5984      0\n",
      "21          0  21103\n",
      "22          0   2670\n",
      "23          0   1742\n",
      "31       1775      0\n",
      "32       6151      0\n",
      "33       4301      0\n",
      "41      12116      0\n",
      "42      10964      0\n",
      "43       6695      0\n",
      "TOWN        0     1\n",
      "ULOCAL             \n",
      "11      12026     0\n",
      "12       4977     0\n",
      "13       5984     0\n",
      "21      21103     0\n",
      "22       2670     0\n",
      "23       1742     0\n",
      "31          0  1775\n",
      "32          0  6151\n",
      "33          0  4301\n",
      "41      12116     0\n",
      "42      10964     0\n",
      "43       6695     0\n",
      "RURAL       0      1\n",
      "ULOCAL              \n",
      "11      12026      0\n",
      "12       4977      0\n",
      "13       5984      0\n",
      "21      21103      0\n",
      "22       2670      0\n",
      "23       1742      0\n",
      "31       1775      0\n",
      "32       6151      0\n",
      "33       4301      0\n",
      "41          0  12116\n",
      "42          0  10964\n",
      "43          0   6695\n"
     ]
    }
   ],
   "source": [
    "def pool(df, pooled, unpooled, values):\n",
    "    df[pooled]=0\n",
    "    df.ix[df[unpooled].isnull(), pooled]=np.nan\n",
    "    df.ix[df[unpooled].isin(values), pooled]=1\n",
    "\n",
    "#Pool States into Geographic Regions \n",
    "#(as defined by census http://www.census.gov/econ/census/help/geography/regions_and_divisions.html)\n",
    "\n",
    "pool(school, \"NEW_ENGLAND\",\"LSTATE\",[\"CT\",\"ME\",\"MA\",\"NH\",\"RI\",\"VT\"])\n",
    "pool(school, \"MID_ATLANTIC\",\"LSTATE\",[\"NJ\",\"NY\",\"PA\"])\n",
    "pool(school, \"EAST_NORTH_CENTL\",\"LSTATE\",[\"IL\",\"IN\",\"MI\",\"OH\",\"WI\",\"AE\"])\n",
    "pool(school, \"WEST_NORTH_CENTL\",\"LSTATE\",[\"IA\",\"KS\",\"MN\",\"MO\",\"NE\",\"ND\",\"SD\"])\n",
    "pool(school, \"SOUTH_ATLANTIC\", \"LSTATE\",[\"DE\",\"DC\",\"FL\",\"GA\",\"MD\",\"NC\",\"SC\",\"VA\",\"WV\",\"VI\",\"PR\"])\n",
    "pool(school, \"EAST_SOUTH_CENTL\", \"LSTATE\",[\"AL\",\"KY\",\"MS\",\"TN\"])\n",
    "pool(school, \"WEST_SOUTH_CENTL\", \"LSTATE\",[\"AR\",\"LA\",\"OK\",\"TX\"])\n",
    "pool(school, \"MOUNTAIN\", \"LSTATE\",[\"AZ\",\"CA\",\"CO\",\"ID\",\"MT\",\"NV\",\"NM\",\"UT\",\"WY\"])    \n",
    "pool(school, \"PACIFIC\", \"LSTATE\", [\"AK\",\"HI\",\"OR\",\"WA\",\"AP\",\"AS\",\"MP\",\"GU\"])\n",
    "\n",
    "print school[[\"NEW_ENGLAND\",\"MID_ATLANTIC\",\"EAST_NORTH_CENTL\",\"WEST_NORTH_CENTL\",\\\n",
    "                     \"SOUTH_ATLANTIC\",\"EAST_SOUTH_CENTL\",\"WEST_SOUTH_CENTL\",\\\n",
    "             \"MOUNTAIN\",\"PACIFIC\"]].sum(axis=1).value_counts(dropna=False)\n",
    "\n",
    "#Pool Urbanacities into City, Suburb, Town, Rural\n",
    "school[\"ULOCAL\"]=pd.to_numeric(school.ULOCAL, errors=\"coerce\")\n",
    "\n",
    "pool(school, \"CITY\",  \"ULOCAL\",[11,12,13])\n",
    "pool(school, \"SUBURB\",\"ULOCAL\",[21,22,23])\n",
    "pool(school, \"TOWN\",  \"ULOCAL\",[31,32,33])\n",
    "pool(school, \"RURAL\", \"ULOCAL\",[41,42,43])\n",
    "\n",
    "print pd.crosstab(school.ULOCAL, school.CITY)\n",
    "print pd.crosstab(school.ULOCAL, school.SUBURB)\n",
    "print pd.crosstab(school.ULOCAL, school.TOWN)\n",
    "print pd.crosstab(school.ULOCAL, school.RURAL)"
   ]
  },
  {
   "cell_type": "code",
   "execution_count": 5,
   "metadata": {
    "collapsed": false
   },
   "outputs": [
    {
     "name": "stdout",
     "output_type": "stream",
     "text": [
      "2    39674\n",
      "N    29948\n",
      "M    11713\n",
      "2     7476\n",
      "1     1931\n",
      "1      227\n",
      "Name: MAGNET, dtype: int64\n",
      "2    62245\n",
      "2    13209\n",
      "N    11051\n",
      "1     3734\n",
      "1      698\n",
      "M       32\n",
      "Name: CHARTR, dtype: int64\n",
      "2    61656\n",
      "M    17407\n",
      "2    11145\n",
      "1      754\n",
      "1        7\n",
      "Name: SHARED, dtype: int64\n",
      "0    88811\n",
      "1     2158\n",
      "Name: MAGNET, dtype: int64\n",
      "0    86537\n",
      "1     4432\n",
      "Name: CHARTR, dtype: int64\n",
      "0    90208\n",
      "1      761\n",
      "Name: SHARED, dtype: int64\n"
     ]
    }
   ],
   "source": [
    "#Magnet, Charter, and Shared-Time School Flags\n",
    "print school.MAGNET.value_counts(dropna=False)\n",
    "print school.CHARTR.value_counts(dropna=False)\n",
    "print school.SHARED.value_counts(dropna=False)\n",
    "\n",
    "school[\"MAGNET\"]=pd.to_numeric(school.MAGNET, errors=\"coerce\")\n",
    "school[\"CHARTR\"]=pd.to_numeric(school.CHARTR, errors=\"coerce\")\n",
    "school[\"SHARED\"]=pd.to_numeric(school.SHARED, errors=\"coerce\")\n",
    "\n",
    "school.ix[school.MAGNET !=1, \"MAGNET\"]=0\n",
    "school.ix[school.CHARTR !=1, \"CHARTR\"]=0\n",
    "school.ix[school.SHARED !=1, \"SHARED\"]=0\n",
    "\n",
    "print school.MAGNET.value_counts(dropna=False)\n",
    "print school.CHARTR.value_counts(dropna=False)\n",
    "print school.SHARED.value_counts(dropna=False)"
   ]
  },
  {
   "cell_type": "code",
   "execution_count": 6,
   "metadata": {
    "collapsed": false
   },
   "outputs": [
    {
     "name": "stdout",
     "output_type": "stream",
     "text": [
      "1    53701\n",
      "2    16790\n",
      "3    16465\n",
      "4     3745\n",
      "N      268\n",
      "Name: LEVEL, dtype: int64\n",
      "ELEM       0      1\n",
      "LEVEL              \n",
      "1          0  53701\n",
      "2      16790      0\n",
      "3      16465      0\n",
      "4       3745      0\n",
      "N        268      0\n",
      "MIDDLE      0      1\n",
      "LEVEL               \n",
      "1       53701      0\n",
      "2           0  16790\n",
      "3       16465      0\n",
      "4        3745      0\n",
      "N         268      0\n",
      "HIGH       0      1\n",
      "LEVEL              \n",
      "1      53701      0\n",
      "2      16790      0\n",
      "3          0  16465\n",
      "4       3745      0\n",
      "N        268      0\n",
      "OTHER      0     1\n",
      "LEVEL             \n",
      "1      53701     0\n",
      "2      16790     0\n",
      "3      16465     0\n",
      "4          0  3745\n",
      "N          0   268\n"
     ]
    }
   ],
   "source": [
    "#School Level (ELEMENTARY, MIDDLE, HIGH, OTHER)\n",
    "print school.LEVEL.value_counts(dropna=False)\n",
    "\n",
    "school[\"ELEM\"]=0\n",
    "school[\"MIDDLE\"]=0\n",
    "school[\"HIGH\"]=0\n",
    "school[\"OTHER\"]=0\n",
    "\n",
    "school.ix[school.LEVEL==\"1\", \"ELEM\"]=1\n",
    "school.ix[school.LEVEL==\"2\", \"MIDDLE\"]=1\n",
    "school.ix[school.LEVEL==\"3\", \"HIGH\"]=1\n",
    "school.ix[school.LEVEL.isin([\"4\",\"N\"]),\"OTHER\"]=1\n",
    "\n",
    "print pd.crosstab(school.LEVEL, school.ELEM)\n",
    "print pd.crosstab(school.LEVEL, school.MIDDLE)\n",
    "print pd.crosstab(school.LEVEL, school.HIGH)\n",
    "print pd.crosstab(school.LEVEL, school.OTHER)"
   ]
  },
  {
   "cell_type": "code",
   "execution_count": 7,
   "metadata": {
    "collapsed": false
   },
   "outputs": [
    {
     "data": {
      "text/html": [
       "<div>\n",
       "<table border=\"1\" class=\"dataframe\">\n",
       "  <thead>\n",
       "    <tr style=\"text-align: right;\">\n",
       "      <th>STITLI</th>\n",
       "      <th>1</th>\n",
       "      <th>2</th>\n",
       "      <th>M</th>\n",
       "      <th>N</th>\n",
       "    </tr>\n",
       "    <tr>\n",
       "      <th>TITLEI</th>\n",
       "      <th></th>\n",
       "      <th></th>\n",
       "      <th></th>\n",
       "      <th></th>\n",
       "    </tr>\n",
       "  </thead>\n",
       "  <tbody>\n",
       "    <tr>\n",
       "      <th>1</th>\n",
       "      <td>44275</td>\n",
       "      <td>19738</td>\n",
       "      <td>0</td>\n",
       "      <td>0</td>\n",
       "    </tr>\n",
       "    <tr>\n",
       "      <th>2</th>\n",
       "      <td>0</td>\n",
       "      <td>0</td>\n",
       "      <td>0</td>\n",
       "      <td>25528</td>\n",
       "    </tr>\n",
       "    <tr>\n",
       "      <th>M</th>\n",
       "      <td>0</td>\n",
       "      <td>0</td>\n",
       "      <td>637</td>\n",
       "      <td>0</td>\n",
       "    </tr>\n",
       "    <tr>\n",
       "      <th>N</th>\n",
       "      <td>0</td>\n",
       "      <td>0</td>\n",
       "      <td>0</td>\n",
       "      <td>791</td>\n",
       "    </tr>\n",
       "  </tbody>\n",
       "</table>\n",
       "</div>"
      ],
      "text/plain": [
       "STITLI      1      2    M      N\n",
       "TITLEI                          \n",
       "1       44275  19738    0      0\n",
       "2           0      0    0  25528\n",
       "M           0      0  637      0\n",
       "N           0      0    0    791"
      ]
     },
     "execution_count": 7,
     "metadata": {},
     "output_type": "execute_result"
    }
   ],
   "source": [
    "#Title I Status (All Students)\n",
    "#print ccd.TITLEI08.value_counts(dropna=False)\n",
    "#print ccd.STITLI08.value_counts(dropna=False)\n",
    "pd.crosstab(school.TITLEI, school.STITLI)"
   ]
  },
  {
   "cell_type": "code",
   "execution_count": 8,
   "metadata": {
    "collapsed": false
   },
   "outputs": [
    {
     "name": "stdout",
     "output_type": "stream",
     "text": [
      " 0     46057\n",
      " 1     44275\n",
      "NaN      637\n",
      "Name: T1_ALL, dtype: int64\n",
      " 0     70594\n",
      " 1     19738\n",
      "NaN      637\n",
      "Name: T1_SOME, dtype: int64\n",
      " 0     64013\n",
      " 1     26319\n",
      "NaN      637\n",
      "Name: T1_NONE, dtype: int64\n"
     ]
    }
   ],
   "source": [
    "school[\"T1_ALL\"]=0\n",
    "school[\"T1_SOME\"]=0\n",
    "school[\"T1_NONE\"]=0\n",
    "\n",
    "school.ix[school.TITLEI==\"M\", \"T1_ALL\"]=np.nan\n",
    "school.ix[school.TITLEI==\"M\", \"T1_SOME\"]=np.nan\n",
    "school.ix[school.TITLEI==\"M\", \"T1_NONE\"]=np.nan\n",
    "\n",
    "school.ix[(school.TITLEI==\"1\") & (school.STITLI==\"1\"), \"T1_ALL\"]=1\n",
    "school.ix[(school.TITLEI==\"1\") & (school.STITLI==\"2\"), \"T1_SOME\"]=1\n",
    "school.ix[(school.TITLEI.isin([\"2\",\"N\"])), \"T1_NONE\"]=1\n",
    "\n",
    "print school.T1_ALL.value_counts(dropna=False)\n",
    "print school.T1_SOME.value_counts(dropna=False)\n",
    "print school.T1_NONE.value_counts(dropna=False)"
   ]
  },
  {
   "cell_type": "code",
   "execution_count": 9,
   "metadata": {
    "collapsed": false
   },
   "outputs": [
    {
     "name": "stdout",
     "output_type": "stream",
     "text": [
      "Min:  -9.0\n",
      "1st:  0.0\n",
      "5th:  68.0\n",
      "10th: 129.0\n",
      "25th: 273.0\n",
      "50th: 444.0\n",
      "75th: 656.0\n",
      "90th: 960.0\n",
      "95th: 1321.0\n",
      "99th: 2285.0\n",
      "Max:  8278.0\n",
      "None\n",
      "Min:  -9.0\n",
      "1st:  0.0\n",
      "5th:  1.0\n",
      "10th: 7.0\n",
      "25th: 66.0\n",
      "50th: 222.0\n",
      "75th: 402.0\n",
      "90th: 615.0\n",
      "95th: 820.0\n",
      "99th: 1412.0\n",
      "Max:  7246.0\n",
      "None\n",
      "Min:  -9.0\n",
      "1st:  0.0\n",
      "5th:  69.0\n",
      "10th: 130.0\n",
      "25th: 276.0\n",
      "50th: 450.0\n",
      "75th: 664.0\n",
      "90th: 968.0\n",
      "95th: 1328.0\n",
      "99th: 2301.0\n",
      "Max:  8539.0\n",
      "None\n",
      "Min:  -9.0\n",
      "1st:  -1.0\n",
      "5th:  5.02\n",
      "10th: 9.7\n",
      "25th: 18.5\n",
      "50th: 28.24\n",
      "75th: 41.31\n",
      "90th: 60.502\n",
      "95th: 79.5\n",
      "99th: 126.216\n",
      "Max:  924.5\n",
      "None\n"
     ]
    }
   ],
   "source": [
    "print percentiles(school, \"TOTETH\")\n",
    "print percentiles(school, \"WHITE\")\n",
    "print percentiles(school, \"MEMBER\")\n",
    "print percentiles(school, \"FTE\")"
   ]
  },
  {
   "cell_type": "code",
   "execution_count": 10,
   "metadata": {
    "collapsed": false
   },
   "outputs": [],
   "source": [
    "def trim_outliers(df, variable):    \n",
    "    p01=school[variable].quantile(q=0.01)\n",
    "    p99=school[variable].quantile(q=0.99)\n",
    "    \n",
    "    print p01, p99\n",
    "    \n",
    "    school.ix[(school[variable]<p01) | (school[variable]>p99), variable]=np.nan"
   ]
  },
  {
   "cell_type": "code",
   "execution_count": 11,
   "metadata": {
    "collapsed": false
   },
   "outputs": [
    {
     "name": "stdout",
     "output_type": "stream",
     "text": [
      "12.0 2287.84\n",
      "0.0 1413.0\n",
      "                          SCHNAM  WHITE  TOTETH  PCT_MINORITY\n",
      "6         ALABAMA YOUTH SERVICES    NaN     NaN           NaN\n",
      "7          ALA AVENUE MIDDLE SCH    373     526      0.290875\n",
      "8           ALBERTVILLE HIGH SCH    789    1045      0.244976\n",
      "9                 EVANS ELEM SCH    395     600      0.341667\n",
      "10          ALBERTVILLE ELEM SCH    384     644      0.403727\n",
      "11   BIG SPRING LAKE KINDERG SCH    240     461      0.479393\n",
      "13       ALBERTVILLE PRIMARY SCH    419     813      0.484625\n",
      "14  KATE DUNCAN SMITH DAR MIDDLE    379     388      0.023196\n",
      "15                    ASBURY SCH    709     919      0.228509\n",
      "16        CLAYSVILLE JR HIGH SCH    204     223      0.085202\n",
      "12.0 2304.0\n",
      "0.0 1157.95\n",
      "                          SCHNAM  MEMBER  TOTFRL   PCT_FRL\n",
      "6         ALABAMA YOUTH SERVICES     NaN     NaN       NaN\n",
      "7          ALA AVENUE MIDDLE SCH     528     320  0.606061\n",
      "8           ALBERTVILLE HIGH SCH    1052     471  0.447719\n",
      "9                 EVANS ELEM SCH     600     394  0.656667\n",
      "10          ALBERTVILLE ELEM SCH     644     460  0.714286\n",
      "11   BIG SPRING LAKE KINDERG SCH     463     318  0.686825\n",
      "13       ALBERTVILLE PRIMARY SCH     817     572  0.700122\n",
      "14  KATE DUNCAN SMITH DAR MIDDLE     391     193  0.493606\n",
      "15                    ASBURY SCH     919     750  0.816104\n",
      "16        CLAYSVILLE JR HIGH SCH     223     145  0.650224\n"
     ]
    }
   ],
   "source": [
    "#Percent Minority\n",
    "school.ix[school.TOTETH<0, \"TOTETH\"]=np.nan\n",
    "school.ix[school.WHITE<0, \"WHITE\"]=np.nan\n",
    "\n",
    "trim_outliers(school, \"TOTETH\")\n",
    "trim_outliers(school, \"WHITE\")\n",
    "\n",
    "school[\"PCT_MINORITY\"]=((school.TOTETH-school.WHITE)/school.TOTETH)\n",
    "print school[[\"SCHNAM\",\"WHITE\",\"TOTETH\",\"PCT_MINORITY\"]].head(10)\n",
    "\n",
    "#Percent Free/ Reduced Price Lunch\n",
    "school.ix[school.MEMBER<0, \"MEMBER\"]=np.nan\n",
    "school.ix[school.TOTFRL<0, \"TOTFRL\"]=np.nan\n",
    "\n",
    "trim_outliers(school, \"MEMBER\")\n",
    "trim_outliers(school, \"TOTFRL\")\n",
    "\n",
    "school[\"PCT_FRL\"]=(school.TOTFRL/ school.MEMBER)\n",
    "print school[[\"SCHNAM\",\"MEMBER\",\"TOTFRL\",\"PCT_FRL\"]].head(10)"
   ]
  },
  {
   "cell_type": "code",
   "execution_count": 12,
   "metadata": {
    "collapsed": false
   },
   "outputs": [
    {
     "data": {
      "text/html": [
       "<div>\n",
       "<table border=\"1\" class=\"dataframe\">\n",
       "  <thead>\n",
       "    <tr style=\"text-align: right;\">\n",
       "      <th></th>\n",
       "      <th>TOTETH</th>\n",
       "      <th>WHITE</th>\n",
       "      <th>MEMBER</th>\n",
       "      <th>TOTFRL</th>\n",
       "      <th>PCT_MINORITY</th>\n",
       "      <th>PCT_FRL</th>\n",
       "    </tr>\n",
       "  </thead>\n",
       "  <tbody>\n",
       "    <tr>\n",
       "      <th>count</th>\n",
       "      <td>88514.000000</td>\n",
       "      <td>89415.000000</td>\n",
       "      <td>88525.000000</td>\n",
       "      <td>86135.000000</td>\n",
       "      <td>87923.000000</td>\n",
       "      <td>85312.000000</td>\n",
       "    </tr>\n",
       "    <tr>\n",
       "      <th>mean</th>\n",
       "      <td>515.994125</td>\n",
       "      <td>272.343488</td>\n",
       "      <td>521.365321</td>\n",
       "      <td>244.560318</td>\n",
       "      <td>0.425493</td>\n",
       "      <td>0.502474</td>\n",
       "    </tr>\n",
       "    <tr>\n",
       "      <th>std</th>\n",
       "      <td>359.899022</td>\n",
       "      <td>253.606080</td>\n",
       "      <td>362.826191</td>\n",
       "      <td>202.671664</td>\n",
       "      <td>0.348221</td>\n",
       "      <td>0.272756</td>\n",
       "    </tr>\n",
       "    <tr>\n",
       "      <th>min</th>\n",
       "      <td>12.000000</td>\n",
       "      <td>0.000000</td>\n",
       "      <td>12.000000</td>\n",
       "      <td>0.000000</td>\n",
       "      <td>0.000000</td>\n",
       "      <td>0.000000</td>\n",
       "    </tr>\n",
       "    <tr>\n",
       "      <th>25%</th>\n",
       "      <td>281.000000</td>\n",
       "      <td>68.000000</td>\n",
       "      <td>284.000000</td>\n",
       "      <td>90.000000</td>\n",
       "      <td>0.101957</td>\n",
       "      <td>0.287293</td>\n",
       "    </tr>\n",
       "    <tr>\n",
       "      <th>50%</th>\n",
       "      <td>446.000000</td>\n",
       "      <td>221.000000</td>\n",
       "      <td>452.000000</td>\n",
       "      <td>195.000000</td>\n",
       "      <td>0.330097</td>\n",
       "      <td>0.496454</td>\n",
       "    </tr>\n",
       "    <tr>\n",
       "      <th>75%</th>\n",
       "      <td>652.000000</td>\n",
       "      <td>397.000000</td>\n",
       "      <td>660.000000</td>\n",
       "      <td>346.000000</td>\n",
       "      <td>0.758197</td>\n",
       "      <td>0.722620</td>\n",
       "    </tr>\n",
       "    <tr>\n",
       "      <th>max</th>\n",
       "      <td>2287.000000</td>\n",
       "      <td>1413.000000</td>\n",
       "      <td>2304.000000</td>\n",
       "      <td>1157.000000</td>\n",
       "      <td>1.000000</td>\n",
       "      <td>0.998440</td>\n",
       "    </tr>\n",
       "  </tbody>\n",
       "</table>\n",
       "</div>"
      ],
      "text/plain": [
       "             TOTETH         WHITE        MEMBER        TOTFRL  PCT_MINORITY  \\\n",
       "count  88514.000000  89415.000000  88525.000000  86135.000000  87923.000000   \n",
       "mean     515.994125    272.343488    521.365321    244.560318      0.425493   \n",
       "std      359.899022    253.606080    362.826191    202.671664      0.348221   \n",
       "min       12.000000      0.000000     12.000000      0.000000      0.000000   \n",
       "25%      281.000000     68.000000    284.000000     90.000000      0.101957   \n",
       "50%      446.000000    221.000000    452.000000    195.000000      0.330097   \n",
       "75%      652.000000    397.000000    660.000000    346.000000      0.758197   \n",
       "max     2287.000000   1413.000000   2304.000000   1157.000000      1.000000   \n",
       "\n",
       "            PCT_FRL  \n",
       "count  85312.000000  \n",
       "mean       0.502474  \n",
       "std        0.272756  \n",
       "min        0.000000  \n",
       "25%        0.287293  \n",
       "50%        0.496454  \n",
       "75%        0.722620  \n",
       "max        0.998440  "
      ]
     },
     "execution_count": 12,
     "metadata": {},
     "output_type": "execute_result"
    }
   ],
   "source": [
    "school[[\"TOTETH\",\"WHITE\",\"MEMBER\",\"TOTFRL\",\"PCT_MINORITY\",\"PCT_FRL\"]].describe()"
   ]
  },
  {
   "cell_type": "code",
   "execution_count": 13,
   "metadata": {
    "collapsed": false
   },
   "outputs": [
    {
     "name": "stdout",
     "output_type": "stream",
     "text": [
      "2.0 126.6775\n",
      "6.72727272727 27.5208236808\n",
      "count    84996.000000\n",
      "mean        15.744684\n",
      "std          3.752199\n",
      "min          6.727273\n",
      "25%         13.194030\n",
      "50%         15.373078\n",
      "75%         18.000000\n",
      "max         27.513514\n",
      "Name: ST_RATIO, dtype: float64\n"
     ]
    }
   ],
   "source": [
    "#Student-Teacher Ratio\n",
    "school.ix[school.FTE<=0, \"FTE\"]=np.nan\n",
    "trim_outliers(school, \"FTE\")\n",
    "\n",
    "school[\"ST_RATIO\"]=school.MEMBER/ school.FTE\n",
    "trim_outliers(school, \"ST_RATIO\")\n",
    "print school[\"ST_RATIO\"].describe()"
   ]
  },
  {
   "cell_type": "code",
   "execution_count": 14,
   "metadata": {
    "collapsed": false
   },
   "outputs": [
    {
     "name": "stdout",
     "output_type": "stream",
     "text": [
      "(91205, 3) (91142, 3) (91086, 4)\n",
      "Index([u'STNAM', u'NCESSCH', u'MATH_PROF', u'ELA_PROF'], dtype='object')\n"
     ]
    },
    {
     "name": "stderr",
     "output_type": "stream",
     "text": [
      "/Users/willhuguenin/anaconda/lib/python2.7/site-packages/IPython/core/interactiveshell.py:2902: DtypeWarning: Columns (17,105,107,109,111,113,115,117) have mixed types. Specify dtype option on import or set low_memory=False.\n",
      "  interactivity=interactivity, compiler=compiler, result=result)\n"
     ]
    }
   ],
   "source": [
    "#Percentile Rank on Math and ELA State Assmt\n",
    "mathvars=[\"STNAM\",\"NCESSCH\",\"ALL_MTH00pctprof_0910\"]\n",
    "elavars=[\"STNAM\",\"NCESSCH\",\"ALL_RLA00pctprof_0910\"]\n",
    "\n",
    "math=pd.read_csv(\"data/EDfacts/2009-10/math-achievement-sch-sy2009-10.csv\")[mathvars]\n",
    "ela=pd.read_csv(\"data/EDfacts/2009-10/rla-achievement-sch-sy2009-10.csv\")[elavars]\n",
    "\n",
    "asmt=pd.merge(math,ela,on=[\"STNAM\",\"NCESSCH\"])\n",
    "\n",
    "asmt.rename(columns={\"ALL_MTH00pctprof_0910\":\"MATH_PROF\",\"ALL_RLA00pctprof_0910\":\"ELA_PROF\"}, inplace=True)\n",
    "\n",
    "print math.shape, ela.shape, asmt.shape\n",
    "print asmt.columns"
   ]
  },
  {
   "cell_type": "code",
   "execution_count": 15,
   "metadata": {
    "collapsed": false
   },
   "outputs": [
    {
     "name": "stdout",
     "output_type": "stream",
     "text": [
      "PS      1392\n",
      "LT50    1360\n",
      "GE50     780\n",
      "n/a      323\n",
      "Name: MATH_PROF, dtype: int64\n",
      "PS      1401\n",
      "GE50    1118\n",
      "LT50    1003\n",
      "n/a      331\n",
      "NaN        1\n",
      "Name: ELA_PROF, dtype: int64\n"
     ]
    }
   ],
   "source": [
    "def clean_score(raw):\n",
    "    raw=str(raw)\n",
    "    \n",
    "    if raw in [\"PS\",\"n/a\",\"GE50\",\"GE40\",\"GE30\",\"LT50\",\"LT40\",\"LT30\"]:\n",
    "        clean=np.nan\n",
    "        \n",
    "    elif raw[:2] in [\"GE\",\"GT\",\"LE\",\"LT\"]: \n",
    "        clean=float(raw[2:])\n",
    "\n",
    "    else:\n",
    "        split=str(raw).split(\"-\")\n",
    "    \n",
    "        if len(split)==1:\n",
    "            clean=float(split[0])\n",
    "    \n",
    "        elif len(split)==2:\n",
    "            clean=np.mean([float(split[0]),float(split[1])])\n",
    "        \n",
    "        else:\n",
    "            print \"ERROR CHECK RANGE: \"+split\n",
    "    \n",
    "    return clean\n",
    "\n",
    "asmt[\"MATH_PROF_CLN\"]=asmt.MATH_PROF.apply(clean_score)\n",
    "asmt[\"ELA_PROF_CLN\"]=asmt.ELA_PROF.apply(clean_score)\n",
    "\n",
    "print asmt[asmt.MATH_PROF_CLN.isnull()][\"MATH_PROF\"].value_counts(dropna=False)\n",
    "print asmt[asmt.ELA_PROF_CLN.isnull()][\"ELA_PROF\"].value_counts(dropna=False)"
   ]
  },
  {
   "cell_type": "code",
   "execution_count": 16,
   "metadata": {
    "collapsed": false
   },
   "outputs": [
    {
     "name": "stdout",
     "output_type": "stream",
     "text": [
      "(91086, 6)\n",
      "(91086, 9)\n",
      "            NCESSCH  MATH_PROF_CLN  ELA_PROF_CLN     MATH_RANK      ELA_RANK  \\\n",
      "count  9.108600e+04   87231.000000  87232.000000  87231.000000  87232.000000   \n",
      "mean   2.899319e+11      69.167251     70.629838      0.500006      0.500006   \n",
      "std    1.676538e+11      21.631216     19.878451      0.288579      0.288566   \n",
      "min    1.000050e+10       1.000000      3.000000      0.000722      0.000017   \n",
      "25%    1.302940e+11      56.000000     57.000000      0.248816      0.238559   \n",
      "50%    2.905680e+11      74.500000     76.000000      0.499249      0.504379   \n",
      "75%    4.212210e+11      87.000000     87.000000      0.765611      0.762897   \n",
      "max    7.200030e+11      99.000000     99.000000      0.996687      0.997128   \n",
      "\n",
      "       in_ranks  \n",
      "count     91086  \n",
      "mean          1  \n",
      "std           0  \n",
      "min           1  \n",
      "25%           1  \n",
      "50%           1  \n",
      "75%           1  \n",
      "max           1  \n"
     ]
    }
   ],
   "source": [
    "#Calculate State Ranks\n",
    "ranks=pd.DataFrame()\n",
    "\n",
    "for state in asmt.STNAM.unique():\n",
    "    state_ranks=asmt[asmt.STNAM==state].copy()\n",
    "    \n",
    "    state_ranks[\"MATH_RANK\"]=asmt.MATH_PROF_CLN.rank(pct=True)\n",
    "    state_ranks[\"ELA_RANK\"]=asmt.ELA_PROF_CLN.rank(pct=True)\n",
    "    \n",
    "    ranks=pd.concat([ranks,state_ranks], axis=0)\n",
    "\n",
    "    \n",
    "ranks[\"in_ranks\"]=1\n",
    "#export to excel to check\n",
    "#ranks.to_csv(\"data/rank_checks.csv\")\n",
    "\n",
    "print asmt.shape\n",
    "print ranks.shape\n",
    "print ranks.describe()"
   ]
  },
  {
   "cell_type": "code",
   "execution_count": 17,
   "metadata": {
    "collapsed": false
   },
   "outputs": [
    {
     "name": "stdout",
     "output_type": "stream",
     "text": [
      "1    85870\n",
      "0     5099\n",
      "Name: in_ranks, dtype: int64\n",
      "(90969, 42) (90969, 50)\n"
     ]
    }
   ],
   "source": [
    "#Match data to NCES-CCD\n",
    "merged=pd.merge(school,ranks,on=\"NCESSCH\",how=\"left\")\n",
    "\n",
    "merged.ix[merged.in_ranks.isnull(), \"in_ranks\"]=0\n",
    "\n",
    "print merged.in_ranks.value_counts()\n",
    "print school.shape, merged.shape\n",
    "\n",
    "merged[\"intercept\"]=1 #add constant term"
   ]
  },
  {
   "cell_type": "code",
   "execution_count": 19,
   "metadata": {
    "collapsed": false
   },
   "outputs": [
    {
     "name": "stderr",
     "output_type": "stream",
     "text": [
      "/Users/willhuguenin/anaconda/lib/python2.7/site-packages/IPython/core/interactiveshell.py:3006: DtypeWarning: Columns (5,6,9,22,23,26,28,54,55,56) have mixed types. Specify dtype option on import or set low_memory=False.\n",
      "  if self.run_code(code, result):\n",
      "/Users/willhuguenin/anaconda/lib/python2.7/site-packages/IPython/core/interactiveshell.py:3006: DtypeWarning: Columns (9,22) have mixed types. Specify dtype option on import or set low_memory=False.\n",
      "  if self.run_code(code, result):\n"
     ]
    },
    {
     "name": "stdout",
     "output_type": "stream",
     "text": [
      "(90969, 56)\n",
      "Index([u'NCESSCH', u'LEAID', u'LEANM', u'SCHNAM', u'LSTATE', u'LEVEL', u'TYPE',\n",
      "       u'STATUS', u'ULOCAL', u'FTE', u'TITLEI', u'STITLI', u'MAGNET',\n",
      "       u'CHARTR', u'SHARED', u'TOTFRL', u'MEMBER', u'WHITE', u'TOTETH',\n",
      "       u'NEW_ENGLAND', u'MID_ATLANTIC', u'EAST_NORTH_CENTL',\n",
      "       u'WEST_NORTH_CENTL', u'SOUTH_ATLANTIC', u'EAST_SOUTH_CENTL',\n",
      "       u'WEST_SOUTH_CENTL', u'MOUNTAIN', u'PACIFIC', u'CITY', u'SUBURB',\n",
      "       u'TOWN', u'RURAL', u'ELEM', u'MIDDLE', u'HIGH', u'OTHER', u'T1_ALL',\n",
      "       u'T1_SOME', u'T1_NONE', u'PCT_MINORITY', u'PCT_FRL', u'ST_RATIO',\n",
      "       u'STNAM', u'MATH_PROF', u'ELA_PROF', u'MATH_PROF_CLN', u'ELA_PROF_CLN',\n",
      "       u'MATH_RANK', u'ELA_RANK', u'in_ranks', u'intercept', u'CLOSED10',\n",
      "       u'CLOSED11', u'CLOSED12', u'CLOSED13', u'CLOSED14'],\n",
      "      dtype='object')\n"
     ]
    }
   ],
   "source": [
    "##Read in CCD Data from 2009-10 through 2013-14 and flag schools closures within 5 years of BY\n",
    "def flag_closure(yr, data, closed):\n",
    "    df=pd.read_table(\"data/ccd/\"+yr+\"/\"+data)[[\"NCESSCH\",\"STATUS\"]]\n",
    "    \n",
    "    df[closed]=0\n",
    "    df.ix[df[\"STATUS\"].isin([2,6]), closed]=1\n",
    "  \n",
    "    return df[[\"NCESSCH\",closed]]\n",
    "    \n",
    "closed10=flag_closure(\"2010-11\", \"sc102a.txt\", \"CLOSED10\")\n",
    "closed11=flag_closure(\"2011-12\", \"sc111a_supp.txt\", \"CLOSED11\")\n",
    "closed12=flag_closure(\"2012-13\", \"sc122a.txt\", \"CLOSED12\")\n",
    "closed13=flag_closure(\"2013-14\", \"sc132a.txt\", \"CLOSED13\")\n",
    "closed14=flag_closure(\"2014-15\", \"Sch14pre.txt\", \"CLOSED14\")\n",
    "\n",
    "merged=pd.merge(merged, closed10, on=\"NCESSCH\", how=\"left\")\n",
    "merged=pd.merge(merged, closed11, on=\"NCESSCH\", how=\"left\")\n",
    "merged=pd.merge(merged, closed12, on=\"NCESSCH\", how=\"left\")\n",
    "merged=pd.merge(merged, closed13, on=\"NCESSCH\", how=\"left\")\n",
    "merged=pd.merge(merged, closed14, on=\"NCESSCH\", how=\"left\")\n",
    "\n",
    "print merged.shape\n",
    "print merged.columns"
   ]
  },
  {
   "cell_type": "code",
   "execution_count": 20,
   "metadata": {
    "collapsed": false
   },
   "outputs": [
    {
     "name": "stdout",
     "output_type": "stream",
     "text": [
      " 0     85046\n",
      " 1      5667\n",
      "NaN      256\n",
      "Name: CLOSED, dtype: int64\n"
     ]
    }
   ],
   "source": [
    "merged[\"CLOSED\"]=merged[[\"CLOSED10\",\"CLOSED11\",\"CLOSED12\",\"CLOSED13\",\"CLOSED14\"]].max(axis=1)\n",
    "\n",
    "print merged.CLOSED.value_counts(dropna=False)"
   ]
  },
  {
   "cell_type": "code",
   "execution_count": 21,
   "metadata": {
    "collapsed": false
   },
   "outputs": [
    {
     "data": {
      "text/html": [
       "<div>\n",
       "<table border=\"1\" class=\"dataframe\">\n",
       "  <thead>\n",
       "    <tr style=\"text-align: right;\">\n",
       "      <th></th>\n",
       "      <th>NCESSCH</th>\n",
       "      <th>LEAID</th>\n",
       "      <th>LEANM</th>\n",
       "      <th>SCHNAM</th>\n",
       "      <th>LSTATE</th>\n",
       "      <th>LEVEL</th>\n",
       "      <th>TYPE</th>\n",
       "      <th>STATUS</th>\n",
       "      <th>ULOCAL</th>\n",
       "      <th>FTE</th>\n",
       "      <th>...</th>\n",
       "      <th>MATH_RANK</th>\n",
       "      <th>ELA_RANK</th>\n",
       "      <th>in_ranks</th>\n",
       "      <th>intercept</th>\n",
       "      <th>CLOSED10</th>\n",
       "      <th>CLOSED11</th>\n",
       "      <th>CLOSED12</th>\n",
       "      <th>CLOSED13</th>\n",
       "      <th>CLOSED14</th>\n",
       "      <th>CLOSED</th>\n",
       "    </tr>\n",
       "  </thead>\n",
       "  <tbody>\n",
       "    <tr>\n",
       "      <th>0</th>\n",
       "      <td>10000201876</td>\n",
       "      <td>100002</td>\n",
       "      <td>ALABAMA YOUTH SERVICES</td>\n",
       "      <td>ALABAMA YOUTH SERVICES</td>\n",
       "      <td>AL</td>\n",
       "      <td>N</td>\n",
       "      <td>1</td>\n",
       "      <td>1</td>\n",
       "      <td>21</td>\n",
       "      <td>NaN</td>\n",
       "      <td>...</td>\n",
       "      <td>NaN</td>\n",
       "      <td>NaN</td>\n",
       "      <td>0</td>\n",
       "      <td>1</td>\n",
       "      <td>0</td>\n",
       "      <td>0</td>\n",
       "      <td>0</td>\n",
       "      <td>0</td>\n",
       "      <td>0</td>\n",
       "      <td>0</td>\n",
       "    </tr>\n",
       "    <tr>\n",
       "      <th>1</th>\n",
       "      <td>10000500870</td>\n",
       "      <td>100005</td>\n",
       "      <td>ALBERTVILLE CITY</td>\n",
       "      <td>ALA AVENUE MIDDLE SCH</td>\n",
       "      <td>AL</td>\n",
       "      <td>2</td>\n",
       "      <td>1</td>\n",
       "      <td>1</td>\n",
       "      <td>32</td>\n",
       "      <td>32.91</td>\n",
       "      <td>...</td>\n",
       "      <td>0.520302</td>\n",
       "      <td>0.574290</td>\n",
       "      <td>1</td>\n",
       "      <td>1</td>\n",
       "      <td>0</td>\n",
       "      <td>0</td>\n",
       "      <td>0</td>\n",
       "      <td>0</td>\n",
       "      <td>0</td>\n",
       "      <td>0</td>\n",
       "    </tr>\n",
       "    <tr>\n",
       "      <th>2</th>\n",
       "      <td>10000500871</td>\n",
       "      <td>100005</td>\n",
       "      <td>ALBERTVILLE CITY</td>\n",
       "      <td>ALBERTVILLE HIGH SCH</td>\n",
       "      <td>AL</td>\n",
       "      <td>3</td>\n",
       "      <td>1</td>\n",
       "      <td>1</td>\n",
       "      <td>32</td>\n",
       "      <td>60.64</td>\n",
       "      <td>...</td>\n",
       "      <td>0.850174</td>\n",
       "      <td>0.713511</td>\n",
       "      <td>1</td>\n",
       "      <td>1</td>\n",
       "      <td>0</td>\n",
       "      <td>0</td>\n",
       "      <td>0</td>\n",
       "      <td>0</td>\n",
       "      <td>0</td>\n",
       "      <td>0</td>\n",
       "    </tr>\n",
       "    <tr>\n",
       "      <th>3</th>\n",
       "      <td>10000500879</td>\n",
       "      <td>100005</td>\n",
       "      <td>ALBERTVILLE CITY</td>\n",
       "      <td>EVANS ELEM SCH</td>\n",
       "      <td>AL</td>\n",
       "      <td>2</td>\n",
       "      <td>1</td>\n",
       "      <td>1</td>\n",
       "      <td>32</td>\n",
       "      <td>33.02</td>\n",
       "      <td>...</td>\n",
       "      <td>0.650910</td>\n",
       "      <td>0.608922</td>\n",
       "      <td>1</td>\n",
       "      <td>1</td>\n",
       "      <td>0</td>\n",
       "      <td>0</td>\n",
       "      <td>0</td>\n",
       "      <td>0</td>\n",
       "      <td>0</td>\n",
       "      <td>0</td>\n",
       "    </tr>\n",
       "    <tr>\n",
       "      <th>4</th>\n",
       "      <td>10000500889</td>\n",
       "      <td>100005</td>\n",
       "      <td>ALBERTVILLE CITY</td>\n",
       "      <td>ALBERTVILLE ELEM SCH</td>\n",
       "      <td>AL</td>\n",
       "      <td>1</td>\n",
       "      <td>1</td>\n",
       "      <td>1</td>\n",
       "      <td>32</td>\n",
       "      <td>35.50</td>\n",
       "      <td>...</td>\n",
       "      <td>0.831373</td>\n",
       "      <td>0.855913</td>\n",
       "      <td>1</td>\n",
       "      <td>1</td>\n",
       "      <td>0</td>\n",
       "      <td>0</td>\n",
       "      <td>0</td>\n",
       "      <td>0</td>\n",
       "      <td>0</td>\n",
       "      <td>0</td>\n",
       "    </tr>\n",
       "  </tbody>\n",
       "</table>\n",
       "<p>5 rows × 57 columns</p>\n",
       "</div>"
      ],
      "text/plain": [
       "       NCESSCH   LEAID                   LEANM                  SCHNAM LSTATE  \\\n",
       "0  10000201876  100002  ALABAMA YOUTH SERVICES  ALABAMA YOUTH SERVICES     AL   \n",
       "1  10000500870  100005        ALBERTVILLE CITY   ALA AVENUE MIDDLE SCH     AL   \n",
       "2  10000500871  100005        ALBERTVILLE CITY    ALBERTVILLE HIGH SCH     AL   \n",
       "3  10000500879  100005        ALBERTVILLE CITY          EVANS ELEM SCH     AL   \n",
       "4  10000500889  100005        ALBERTVILLE CITY    ALBERTVILLE ELEM SCH     AL   \n",
       "\n",
       "  LEVEL  TYPE  STATUS  ULOCAL    FTE   ...   MATH_RANK  ELA_RANK  in_ranks  \\\n",
       "0     N     1       1      21    NaN   ...         NaN       NaN         0   \n",
       "1     2     1       1      32  32.91   ...    0.520302  0.574290         1   \n",
       "2     3     1       1      32  60.64   ...    0.850174  0.713511         1   \n",
       "3     2     1       1      32  33.02   ...    0.650910  0.608922         1   \n",
       "4     1     1       1      32  35.50   ...    0.831373  0.855913         1   \n",
       "\n",
       "   intercept  CLOSED10  CLOSED11  CLOSED12  CLOSED13  CLOSED14  CLOSED  \n",
       "0          1         0         0         0         0         0       0  \n",
       "1          1         0         0         0         0         0       0  \n",
       "2          1         0         0         0         0         0       0  \n",
       "3          1         0         0         0         0         0       0  \n",
       "4          1         0         0         0         0         0       0  \n",
       "\n",
       "[5 rows x 57 columns]"
      ]
     },
     "execution_count": 21,
     "metadata": {},
     "output_type": "execute_result"
    }
   ],
   "source": [
    "merged.columns\n",
    "merged.head(5)"
   ]
  },
  {
   "cell_type": "code",
   "execution_count": 22,
   "metadata": {
    "collapsed": false
   },
   "outputs": [],
   "source": [
    "#Pickle Data for analysis\n",
    "merged=merged[merged.CLOSED.notnull()] #take out observations with missing label (only ~0.2%)\n",
    "\n",
    "merged.to_pickle(\"data/school_closure_clean.pkl\")"
   ]
  },
  {
   "cell_type": "code",
   "execution_count": null,
   "metadata": {
    "collapsed": true
   },
   "outputs": [],
   "source": []
  }
 ],
 "metadata": {
  "kernelspec": {
   "display_name": "Python 2",
   "language": "python",
   "name": "python2"
  },
  "language_info": {
   "codemirror_mode": {
    "name": "ipython",
    "version": 2
   },
   "file_extension": ".py",
   "mimetype": "text/x-python",
   "name": "python",
   "nbconvert_exporter": "python",
   "pygments_lexer": "ipython2",
   "version": "2.7.10"
  }
 },
 "nbformat": 4,
 "nbformat_minor": 0
}
