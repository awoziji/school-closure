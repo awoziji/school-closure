{
 "cells": [
  {
   "cell_type": "markdown",
   "metadata": {},
   "source": [
    "#### School Closure Visualization/ Descriptives"
   ]
  },
  {
   "cell_type": "code",
   "execution_count": 10,
   "metadata": {
    "collapsed": true
   },
   "outputs": [],
   "source": [
    "import numpy as np\n",
    "import pandas as pd\n",
    "\n",
    "import seaborn as sns; sns.set()\n",
    "from matplotlib import pyplot as plt\n",
    "%matplotlib inline"
   ]
  },
  {
   "cell_type": "code",
   "execution_count": 11,
   "metadata": {
    "collapsed": false
   },
   "outputs": [
    {
     "name": "stdout",
     "output_type": "stream",
     "text": [
      "(90713, 61)\n"
     ]
    }
   ],
   "source": [
    "#Read in State ID and County ID from Raw NCES Data\n",
    "ids=pd.read_table(\"data/ccd/2009-10/sc092a.txt\")[[\"NCESSCH\",\"FIPST\",\"CONUM09\",\"LSTATE09\",\"CONAME09\"]]\n",
    "ids.rename(columns={\"CONUM09\":\"CONUM\", \"LSTATE09\": \"STATE\", \"CONAME09\":\"COUNTY\"}, inplace=True)\n",
    "\n",
    "school=pd.read_pickle(\"data/school_closure_clean.pkl\")\n",
    "merged=pd.merge(ids, school, how=\"right\", on=\"NCESSCH\")\n",
    "\n",
    "print merged.shape"
   ]
  },
  {
   "cell_type": "markdown",
   "metadata": {},
   "source": [
    "#### Create TSV File for d3 Map"
   ]
  },
  {
   "cell_type": "code",
   "execution_count": 12,
   "metadata": {
    "collapsed": false
   },
   "outputs": [],
   "source": [
    "##Convert County IDs to Numeric (for D3 TopoJSON Map)\n",
    "merged[\"CONUM\"]=pd.to_numeric(merged.CONUM, errors=\"coerce\")\n",
    "merged=merged[merged.CONUM.notnull()]\n",
    "merged[\"CONUM\"] = merged[\"CONUM\"].astype(np.int32)"
   ]
  },
  {
   "cell_type": "code",
   "execution_count": 13,
   "metadata": {
    "collapsed": false
   },
   "outputs": [
    {
     "data": {
      "text/html": [
       "<div>\n",
       "<table border=\"1\" class=\"dataframe\">\n",
       "  <thead>\n",
       "    <tr style=\"text-align: right;\">\n",
       "      <th></th>\n",
       "      <th>NCESSCH</th>\n",
       "      <th>FIPST</th>\n",
       "      <th>CONUM</th>\n",
       "      <th>STATE</th>\n",
       "      <th>COUNTY</th>\n",
       "      <th>LEAID</th>\n",
       "      <th>LEANM</th>\n",
       "      <th>SCHNAM</th>\n",
       "      <th>LSTATE</th>\n",
       "      <th>LEVEL</th>\n",
       "      <th>...</th>\n",
       "      <th>MATH_RANK</th>\n",
       "      <th>ELA_RANK</th>\n",
       "      <th>in_ranks</th>\n",
       "      <th>intercept</th>\n",
       "      <th>CLOSED10</th>\n",
       "      <th>CLOSED11</th>\n",
       "      <th>CLOSED12</th>\n",
       "      <th>CLOSED13</th>\n",
       "      <th>CLOSED14</th>\n",
       "      <th>CLOSED</th>\n",
       "    </tr>\n",
       "  </thead>\n",
       "  <tbody>\n",
       "    <tr>\n",
       "      <th>0</th>\n",
       "      <td>10000201876</td>\n",
       "      <td>1</td>\n",
       "      <td>1117</td>\n",
       "      <td>AL</td>\n",
       "      <td>Shelby County, AL</td>\n",
       "      <td>100002</td>\n",
       "      <td>ALABAMA YOUTH SERVICES</td>\n",
       "      <td>ALABAMA YOUTH SERVICES</td>\n",
       "      <td>AL</td>\n",
       "      <td>N</td>\n",
       "      <td>...</td>\n",
       "      <td>NaN</td>\n",
       "      <td>NaN</td>\n",
       "      <td>0</td>\n",
       "      <td>1</td>\n",
       "      <td>0</td>\n",
       "      <td>0</td>\n",
       "      <td>0</td>\n",
       "      <td>0</td>\n",
       "      <td>0</td>\n",
       "      <td>0</td>\n",
       "    </tr>\n",
       "    <tr>\n",
       "      <th>1</th>\n",
       "      <td>10000500870</td>\n",
       "      <td>1</td>\n",
       "      <td>1095</td>\n",
       "      <td>AL</td>\n",
       "      <td>Marshall County, AL</td>\n",
       "      <td>100005</td>\n",
       "      <td>ALBERTVILLE CITY</td>\n",
       "      <td>ALA AVENUE MIDDLE SCH</td>\n",
       "      <td>AL</td>\n",
       "      <td>2</td>\n",
       "      <td>...</td>\n",
       "      <td>0.520302</td>\n",
       "      <td>0.574290</td>\n",
       "      <td>1</td>\n",
       "      <td>1</td>\n",
       "      <td>0</td>\n",
       "      <td>0</td>\n",
       "      <td>0</td>\n",
       "      <td>0</td>\n",
       "      <td>0</td>\n",
       "      <td>0</td>\n",
       "    </tr>\n",
       "    <tr>\n",
       "      <th>2</th>\n",
       "      <td>10000500871</td>\n",
       "      <td>1</td>\n",
       "      <td>1095</td>\n",
       "      <td>AL</td>\n",
       "      <td>Marshall County, AL</td>\n",
       "      <td>100005</td>\n",
       "      <td>ALBERTVILLE CITY</td>\n",
       "      <td>ALBERTVILLE HIGH SCH</td>\n",
       "      <td>AL</td>\n",
       "      <td>3</td>\n",
       "      <td>...</td>\n",
       "      <td>0.850174</td>\n",
       "      <td>0.713511</td>\n",
       "      <td>1</td>\n",
       "      <td>1</td>\n",
       "      <td>0</td>\n",
       "      <td>0</td>\n",
       "      <td>0</td>\n",
       "      <td>0</td>\n",
       "      <td>0</td>\n",
       "      <td>0</td>\n",
       "    </tr>\n",
       "    <tr>\n",
       "      <th>3</th>\n",
       "      <td>10000500879</td>\n",
       "      <td>1</td>\n",
       "      <td>1095</td>\n",
       "      <td>AL</td>\n",
       "      <td>Marshall County, AL</td>\n",
       "      <td>100005</td>\n",
       "      <td>ALBERTVILLE CITY</td>\n",
       "      <td>EVANS ELEM SCH</td>\n",
       "      <td>AL</td>\n",
       "      <td>2</td>\n",
       "      <td>...</td>\n",
       "      <td>0.650910</td>\n",
       "      <td>0.608922</td>\n",
       "      <td>1</td>\n",
       "      <td>1</td>\n",
       "      <td>0</td>\n",
       "      <td>0</td>\n",
       "      <td>0</td>\n",
       "      <td>0</td>\n",
       "      <td>0</td>\n",
       "      <td>0</td>\n",
       "    </tr>\n",
       "    <tr>\n",
       "      <th>4</th>\n",
       "      <td>10000500889</td>\n",
       "      <td>1</td>\n",
       "      <td>1095</td>\n",
       "      <td>AL</td>\n",
       "      <td>Marshall County, AL</td>\n",
       "      <td>100005</td>\n",
       "      <td>ALBERTVILLE CITY</td>\n",
       "      <td>ALBERTVILLE ELEM SCH</td>\n",
       "      <td>AL</td>\n",
       "      <td>1</td>\n",
       "      <td>...</td>\n",
       "      <td>0.831373</td>\n",
       "      <td>0.855913</td>\n",
       "      <td>1</td>\n",
       "      <td>1</td>\n",
       "      <td>0</td>\n",
       "      <td>0</td>\n",
       "      <td>0</td>\n",
       "      <td>0</td>\n",
       "      <td>0</td>\n",
       "      <td>0</td>\n",
       "    </tr>\n",
       "  </tbody>\n",
       "</table>\n",
       "<p>5 rows × 61 columns</p>\n",
       "</div>"
      ],
      "text/plain": [
       "       NCESSCH  FIPST  CONUM STATE               COUNTY   LEAID  \\\n",
       "0  10000201876      1   1117    AL    Shelby County, AL  100002   \n",
       "1  10000500870      1   1095    AL  Marshall County, AL  100005   \n",
       "2  10000500871      1   1095    AL  Marshall County, AL  100005   \n",
       "3  10000500879      1   1095    AL  Marshall County, AL  100005   \n",
       "4  10000500889      1   1095    AL  Marshall County, AL  100005   \n",
       "\n",
       "                    LEANM                  SCHNAM LSTATE LEVEL   ...    \\\n",
       "0  ALABAMA YOUTH SERVICES  ALABAMA YOUTH SERVICES     AL     N   ...     \n",
       "1        ALBERTVILLE CITY   ALA AVENUE MIDDLE SCH     AL     2   ...     \n",
       "2        ALBERTVILLE CITY    ALBERTVILLE HIGH SCH     AL     3   ...     \n",
       "3        ALBERTVILLE CITY          EVANS ELEM SCH     AL     2   ...     \n",
       "4        ALBERTVILLE CITY    ALBERTVILLE ELEM SCH     AL     1   ...     \n",
       "\n",
       "   MATH_RANK  ELA_RANK  in_ranks  intercept CLOSED10 CLOSED11  CLOSED12  \\\n",
       "0        NaN       NaN         0          1        0        0         0   \n",
       "1   0.520302  0.574290         1          1        0        0         0   \n",
       "2   0.850174  0.713511         1          1        0        0         0   \n",
       "3   0.650910  0.608922         1          1        0        0         0   \n",
       "4   0.831373  0.855913         1          1        0        0         0   \n",
       "\n",
       "   CLOSED13  CLOSED14  CLOSED  \n",
       "0         0         0       0  \n",
       "1         0         0       0  \n",
       "2         0         0       0  \n",
       "3         0         0       0  \n",
       "4         0         0       0  \n",
       "\n",
       "[5 rows x 61 columns]"
      ]
     },
     "execution_count": 13,
     "metadata": {},
     "output_type": "execute_result"
    }
   ],
   "source": [
    "merged[\"COUNTY\"] = merged[\"COUNTY\"].apply(lambda x: x.title()) ##Convert to Proper Case\n",
    "merged[\"COUNTY\"] = merged[[\"COUNTY\", \"STATE\"]].apply(lambda x: \", \".join(x), axis=1) #Concatenate County and State\n",
    "merged.head(5)"
   ]
  },
  {
   "cell_type": "code",
   "execution_count": 14,
   "metadata": {
    "collapsed": false
   },
   "outputs": [
    {
     "data": {
      "text/html": [
       "<div>\n",
       "<table border=\"1\" class=\"dataframe\">\n",
       "  <thead>\n",
       "    <tr style=\"text-align: right;\">\n",
       "      <th></th>\n",
       "      <th>id</th>\n",
       "      <th>county_name</th>\n",
       "      <th>schools</th>\n",
       "      <th>closures</th>\n",
       "      <th>close_rate</th>\n",
       "    </tr>\n",
       "  </thead>\n",
       "  <tbody>\n",
       "    <tr>\n",
       "      <th>0</th>\n",
       "      <td>1001</td>\n",
       "      <td>Autauga County, AL</td>\n",
       "      <td>12</td>\n",
       "      <td>0</td>\n",
       "      <td>0.000000</td>\n",
       "    </tr>\n",
       "    <tr>\n",
       "      <th>1</th>\n",
       "      <td>1003</td>\n",
       "      <td>Baldwin County, AL</td>\n",
       "      <td>43</td>\n",
       "      <td>1</td>\n",
       "      <td>0.023256</td>\n",
       "    </tr>\n",
       "    <tr>\n",
       "      <th>2</th>\n",
       "      <td>1005</td>\n",
       "      <td>Barbour County, AL</td>\n",
       "      <td>9</td>\n",
       "      <td>1</td>\n",
       "      <td>0.111111</td>\n",
       "    </tr>\n",
       "    <tr>\n",
       "      <th>3</th>\n",
       "      <td>1007</td>\n",
       "      <td>Bibb County, AL</td>\n",
       "      <td>10</td>\n",
       "      <td>1</td>\n",
       "      <td>0.100000</td>\n",
       "    </tr>\n",
       "    <tr>\n",
       "      <th>4</th>\n",
       "      <td>1009</td>\n",
       "      <td>Blount County, AL</td>\n",
       "      <td>16</td>\n",
       "      <td>0</td>\n",
       "      <td>0.000000</td>\n",
       "    </tr>\n",
       "    <tr>\n",
       "      <th>5</th>\n",
       "      <td>1011</td>\n",
       "      <td>Bullock County, AL</td>\n",
       "      <td>4</td>\n",
       "      <td>1</td>\n",
       "      <td>0.250000</td>\n",
       "    </tr>\n",
       "    <tr>\n",
       "      <th>6</th>\n",
       "      <td>1013</td>\n",
       "      <td>Butler County, AL</td>\n",
       "      <td>6</td>\n",
       "      <td>0</td>\n",
       "      <td>0.000000</td>\n",
       "    </tr>\n",
       "    <tr>\n",
       "      <th>7</th>\n",
       "      <td>1015</td>\n",
       "      <td>Calhoun County, AL</td>\n",
       "      <td>34</td>\n",
       "      <td>0</td>\n",
       "      <td>0.000000</td>\n",
       "    </tr>\n",
       "    <tr>\n",
       "      <th>8</th>\n",
       "      <td>1017</td>\n",
       "      <td>Chambers County, AL</td>\n",
       "      <td>13</td>\n",
       "      <td>0</td>\n",
       "      <td>0.000000</td>\n",
       "    </tr>\n",
       "    <tr>\n",
       "      <th>9</th>\n",
       "      <td>1019</td>\n",
       "      <td>Cherokee County, AL</td>\n",
       "      <td>7</td>\n",
       "      <td>0</td>\n",
       "      <td>0.000000</td>\n",
       "    </tr>\n",
       "    <tr>\n",
       "      <th>10</th>\n",
       "      <td>1021</td>\n",
       "      <td>Chilton County, AL</td>\n",
       "      <td>11</td>\n",
       "      <td>0</td>\n",
       "      <td>0.000000</td>\n",
       "    </tr>\n",
       "    <tr>\n",
       "      <th>11</th>\n",
       "      <td>1023</td>\n",
       "      <td>Choctaw County, AL</td>\n",
       "      <td>4</td>\n",
       "      <td>0</td>\n",
       "      <td>0.000000</td>\n",
       "    </tr>\n",
       "    <tr>\n",
       "      <th>12</th>\n",
       "      <td>1025</td>\n",
       "      <td>Clarke County, AL</td>\n",
       "      <td>11</td>\n",
       "      <td>1</td>\n",
       "      <td>0.090909</td>\n",
       "    </tr>\n",
       "    <tr>\n",
       "      <th>13</th>\n",
       "      <td>1027</td>\n",
       "      <td>Clay County, AL</td>\n",
       "      <td>4</td>\n",
       "      <td>2</td>\n",
       "      <td>0.500000</td>\n",
       "    </tr>\n",
       "    <tr>\n",
       "      <th>14</th>\n",
       "      <td>1029</td>\n",
       "      <td>Cleburne County, AL</td>\n",
       "      <td>7</td>\n",
       "      <td>0</td>\n",
       "      <td>0.000000</td>\n",
       "    </tr>\n",
       "    <tr>\n",
       "      <th>15</th>\n",
       "      <td>1031</td>\n",
       "      <td>Coffee County, AL</td>\n",
       "      <td>17</td>\n",
       "      <td>1</td>\n",
       "      <td>0.058824</td>\n",
       "    </tr>\n",
       "    <tr>\n",
       "      <th>16</th>\n",
       "      <td>1033</td>\n",
       "      <td>Colbert County, AL</td>\n",
       "      <td>23</td>\n",
       "      <td>1</td>\n",
       "      <td>0.043478</td>\n",
       "    </tr>\n",
       "    <tr>\n",
       "      <th>17</th>\n",
       "      <td>1035</td>\n",
       "      <td>Conecuh County, AL</td>\n",
       "      <td>6</td>\n",
       "      <td>0</td>\n",
       "      <td>0.000000</td>\n",
       "    </tr>\n",
       "    <tr>\n",
       "      <th>18</th>\n",
       "      <td>1037</td>\n",
       "      <td>Coosa County, AL</td>\n",
       "      <td>3</td>\n",
       "      <td>0</td>\n",
       "      <td>0.000000</td>\n",
       "    </tr>\n",
       "    <tr>\n",
       "      <th>19</th>\n",
       "      <td>1039</td>\n",
       "      <td>Covington County, AL</td>\n",
       "      <td>15</td>\n",
       "      <td>1</td>\n",
       "      <td>0.066667</td>\n",
       "    </tr>\n",
       "    <tr>\n",
       "      <th>20</th>\n",
       "      <td>1041</td>\n",
       "      <td>Crenshaw County, AL</td>\n",
       "      <td>3</td>\n",
       "      <td>0</td>\n",
       "      <td>0.000000</td>\n",
       "    </tr>\n",
       "    <tr>\n",
       "      <th>21</th>\n",
       "      <td>1043</td>\n",
       "      <td>Cullman County, AL</td>\n",
       "      <td>31</td>\n",
       "      <td>0</td>\n",
       "      <td>0.000000</td>\n",
       "    </tr>\n",
       "    <tr>\n",
       "      <th>22</th>\n",
       "      <td>1045</td>\n",
       "      <td>Dale County, AL</td>\n",
       "      <td>14</td>\n",
       "      <td>0</td>\n",
       "      <td>0.000000</td>\n",
       "    </tr>\n",
       "    <tr>\n",
       "      <th>23</th>\n",
       "      <td>1047</td>\n",
       "      <td>Dallas County, AL</td>\n",
       "      <td>24</td>\n",
       "      <td>2</td>\n",
       "      <td>0.083333</td>\n",
       "    </tr>\n",
       "    <tr>\n",
       "      <th>24</th>\n",
       "      <td>1049</td>\n",
       "      <td>Dekalb County, AL</td>\n",
       "      <td>16</td>\n",
       "      <td>0</td>\n",
       "      <td>0.000000</td>\n",
       "    </tr>\n",
       "  </tbody>\n",
       "</table>\n",
       "</div>"
      ],
      "text/plain": [
       "      id           county_name  schools  closures  close_rate\n",
       "0   1001    Autauga County, AL       12         0    0.000000\n",
       "1   1003    Baldwin County, AL       43         1    0.023256\n",
       "2   1005    Barbour County, AL        9         1    0.111111\n",
       "3   1007       Bibb County, AL       10         1    0.100000\n",
       "4   1009     Blount County, AL       16         0    0.000000\n",
       "5   1011    Bullock County, AL        4         1    0.250000\n",
       "6   1013     Butler County, AL        6         0    0.000000\n",
       "7   1015    Calhoun County, AL       34         0    0.000000\n",
       "8   1017   Chambers County, AL       13         0    0.000000\n",
       "9   1019   Cherokee County, AL        7         0    0.000000\n",
       "10  1021    Chilton County, AL       11         0    0.000000\n",
       "11  1023    Choctaw County, AL        4         0    0.000000\n",
       "12  1025     Clarke County, AL       11         1    0.090909\n",
       "13  1027       Clay County, AL        4         2    0.500000\n",
       "14  1029   Cleburne County, AL        7         0    0.000000\n",
       "15  1031     Coffee County, AL       17         1    0.058824\n",
       "16  1033    Colbert County, AL       23         1    0.043478\n",
       "17  1035    Conecuh County, AL        6         0    0.000000\n",
       "18  1037      Coosa County, AL        3         0    0.000000\n",
       "19  1039  Covington County, AL       15         1    0.066667\n",
       "20  1041   Crenshaw County, AL        3         0    0.000000\n",
       "21  1043    Cullman County, AL       31         0    0.000000\n",
       "22  1045       Dale County, AL       14         0    0.000000\n",
       "23  1047     Dallas County, AL       24         2    0.083333\n",
       "24  1049     Dekalb County, AL       16         0    0.000000"
      ]
     },
     "execution_count": 14,
     "metadata": {},
     "output_type": "execute_result"
    }
   ],
   "source": [
    "bycounty = merged.groupby(by=[\"CONUM\", \"COUNTY\"], as_index=False)[[\"intercept\", \"CLOSED\"]].sum() #aggregate and sum up\n",
    "\n",
    "bycounty.rename(columns={\"CONUM\":\"id\", \"COUNTY\":\"county_name\", \"intercept\":\"schools\", \"CLOSED\":\"closures\"}, inplace=True)\n",
    "bycounty[\"close_rate\"] = bycounty.closures / bycounty.schools\n",
    "#bycounty.to_csv(\"graphics/d3-map/closures.tsv\")\n",
    "bycounty.head(25)"
   ]
  },
  {
   "cell_type": "code",
   "execution_count": null,
   "metadata": {
    "collapsed": false
   },
   "outputs": [],
   "source": [
    "bycounty = merged.groupby(by=\"CONUM\", as_index=False)[[\"intercept\",\"CLOSED\"]].sum()\n",
    "bycounty.rename(columns={\"CLOSED\":\"closed\", \"intercept\": \"total\"}, inplace=True)\n",
    "\n",
    "bycounty[\"rate\"] = bycounty.closed / bycounty.total\n",
    "bycounty.rename(columns={\"CONUM\":\"id\", \"intercept\":\"total\"}, inplace=True)\n",
    "\n",
    "bycounty[[\"id\",\"rate\"]].to_csv(\"graphics/d3-map/close_rate_bycnty.tsv\", sep=\"\\t\", index=False)\n",
    "bycounty.head(10)"
   ]
  },
  {
   "cell_type": "markdown",
   "metadata": {},
   "source": [
    "#### Look at Counties with Highest School Closure Rates"
   ]
  },
  {
   "cell_type": "code",
   "execution_count": null,
   "metadata": {
    "collapsed": false
   },
   "outputs": [],
   "source": [
    "view=merged.groupby(by=[\"STATE\",\"COUNTY\"], as_index=False)[[\"intercept\",\"CLOSED\"]].sum()\n",
    "view.rename(columns={\"CLOSED\":\"closed\", \"intercept\": \"total\"}, inplace=True)\n",
    "view[\"rate\"] = view.closed / view.total\n",
    "#view.head(10)\n",
    "#view.total.describe()\n",
    "view.sort_values(by=\"rate\", ascending=False).head(10)"
   ]
  },
  {
   "cell_type": "markdown",
   "metadata": {},
   "source": [
    "#### Look at Closure Rates by Different Categorical Features"
   ]
  },
  {
   "cell_type": "code",
   "execution_count": null,
   "metadata": {
    "collapsed": false
   },
   "outputs": [],
   "source": [
    "print merged.columns\n",
    "print float(merged.CLOSED.value_counts()[1]) / merged.shape[0]"
   ]
  },
  {
   "cell_type": "code",
   "execution_count": null,
   "metadata": {
    "collapsed": false
   },
   "outputs": [],
   "source": [
    "def closure_rate(variables):\n",
    "    for variable in variables:\n",
    "        print merged.groupby(by=variable, as_index=False)[\"CLOSED\"].mean()\n",
    "\n",
    "closure_rate([\"MAGNET\",\"CHARTR\",\"SHARED\"])"
   ]
  },
  {
   "cell_type": "code",
   "execution_count": null,
   "metadata": {
    "collapsed": false
   },
   "outputs": [],
   "source": [
    "closure_rate([\"NEW_ENGLAND\",\"MID_ATLANTIC\",\"EAST_NORTH_CENTL\",\"WEST_NORTH_CENTL\",\"SOUTH_ATLANTIC\",\"EAST_SOUTH_CENTL\",\\\n",
    "              \"WEST_SOUTH_CENTL\",\"MOUNTAIN\",\"PACIFIC\"])"
   ]
  },
  {
   "cell_type": "code",
   "execution_count": null,
   "metadata": {
    "collapsed": false
   },
   "outputs": [],
   "source": [
    "closure_rate([\"CITY\",\"SUBURB\",\"TOWN\",\"RURAL\"])"
   ]
  },
  {
   "cell_type": "code",
   "execution_count": null,
   "metadata": {
    "collapsed": false
   },
   "outputs": [],
   "source": [
    "closure_rate([\"ELEM\",\"MIDDLE\",\"HIGH\",\"OTHER\"])"
   ]
  },
  {
   "cell_type": "code",
   "execution_count": null,
   "metadata": {
    "collapsed": false
   },
   "outputs": [],
   "source": [
    "closure_rate([\"T1_ALL\",\"T1_SOME\",\"T1_NONE\"])"
   ]
  },
  {
   "cell_type": "markdown",
   "metadata": {},
   "source": [
    "#### Paired Bar Graph of Continuous Characteristics by Open vs. Closed"
   ]
  },
  {
   "cell_type": "code",
   "execution_count": null,
   "metadata": {
    "collapsed": false
   },
   "outputs": [],
   "source": [
    "def by_closure(variables):\n",
    "    for variable in variables:\n",
    "        print merged.groupby(by=\"CLOSED\", as_index=False)[variable].mean()\n",
    "\n",
    "by_closure([\"MEMBER\",\"PCT_MINORITY\",\"PCT_FRL\", \"ST_RATIO\",\"MATH_RANK\",\"ELA_RANK\"])"
   ]
  },
  {
   "cell_type": "code",
   "execution_count": null,
   "metadata": {
    "collapsed": false
   },
   "outputs": [],
   "source": [
    "def graph_by_closure(df, variables):\n",
    "    new_df=pd.DataFrame()\n",
    "    \n",
    "    for variable in variables:\n",
    "        temp_df=pd.DataFrame({\"var\":variable, \"closed\": df[\"CLOSED\"], \"value\": df[variable].apply(lambda x: x*100)})\n",
    "        \n",
    "        new_df=pd.concat([new_df, temp_df], axis=0)\n",
    "\n",
    "    new_df[\"closed_txt\"]=\"Open\"\n",
    "    new_df.ix[new_df.closed==1, \"closed_txt\"]=\"Closed\"\n",
    "      \n",
    "    return sns.boxplot(x=\"var\", y=\"value\", hue=\"closed_txt\", data=new_df, palette=[green, red])\n",
    "\n",
    "\n",
    "plt.figure(figsize=(20,10))\n",
    "green = sns.color_palette(\"deep\")[1]\n",
    "red = sns.color_palette(\"deep\")[2]\n",
    "\n",
    "fig = graph_by_closure(merged, [\"PCT_MINORITY\",\"PCT_FRL\",\"MATH_RANK\",\"ELA_RANK\"])\n",
    "plt.legend(loc=\"best\", fontsize=24)\n",
    "\n",
    "plt.xlabel(\" \")\n",
    "plt.ylabel(\"(%)\", fontsize=28)\n",
    "fig.set_xticklabels([\"Percent \\nMinority\",\"Percent Free/ \\nReduced Price Lunch\",\\\n",
    "                     \"Math \\nPercentile Rank\",\"ELA \\nPercentile Rank\"])\n",
    "plt.xticks(fontsize=24)\n",
    "plt.yticks(fontsize=24)\n",
    "plt.title(\"School Characteristics by Closure Status\", fontsize=32)\n",
    "plt.savefig(\"graphics/school-char-by-closure.png\")"
   ]
  },
  {
   "cell_type": "code",
   "execution_count": null,
   "metadata": {
    "collapsed": true
   },
   "outputs": [],
   "source": []
  }
 ],
 "metadata": {
  "kernelspec": {
   "display_name": "Python 2",
   "language": "python",
   "name": "python2"
  },
  "language_info": {
   "codemirror_mode": {
    "name": "ipython",
    "version": 2
   },
   "file_extension": ".py",
   "mimetype": "text/x-python",
   "name": "python",
   "nbconvert_exporter": "python",
   "pygments_lexer": "ipython2",
   "version": "2.7.10"
  }
 },
 "nbformat": 4,
 "nbformat_minor": 0
}
