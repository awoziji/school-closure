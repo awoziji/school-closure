{
 "cells": [
  {
   "cell_type": "markdown",
   "metadata": {},
   "source": [
    "#### School Closure Visualization/ Descriptives"
   ]
  },
  {
   "cell_type": "code",
   "execution_count": 1,
   "metadata": {
    "collapsed": false
   },
   "outputs": [
    {
     "name": "stdout",
     "output_type": "stream",
     "text": [
      "(90713, 57)\n",
      "(90713, 61)\n",
      "Index([u'NCESSCH', u'FIPST', u'CONUM', u'STATE', u'COUNTY', u'LEAID', u'LEANM',\n",
      "       u'SCHNAM', u'LSTATE', u'LEVEL', u'TYPE', u'STATUS', u'ULOCAL', u'FTE',\n",
      "       u'TITLEI', u'STITLI', u'MAGNET', u'CHARTR', u'SHARED', u'TOTFRL',\n",
      "       u'MEMBER', u'WHITE', u'TOTETH', u'NEW_ENGLAND', u'MID_ATLANTIC',\n",
      "       u'EAST_NORTH_CENTL', u'WEST_NORTH_CENTL', u'SOUTH_ATLANTIC',\n",
      "       u'EAST_SOUTH_CENTL', u'WEST_SOUTH_CENTL', u'MOUNTAIN', u'PACIFIC',\n",
      "       u'CITY', u'SUBURB', u'TOWN', u'RURAL', u'ELEM', u'MIDDLE', u'HIGH',\n",
      "       u'OTHER', u'T1_ALL', u'T1_SOME', u'T1_NONE', u'PCT_MINORITY',\n",
      "       u'PCT_FRL', u'ST_RATIO', u'STNAM', u'MATH_PROF', u'ELA_PROF',\n",
      "       u'MATH_PROF_CLN', u'ELA_PROF_CLN', u'MATH_RANK', u'ELA_RANK',\n",
      "       u'in_ranks', u'intercept', u'CLOSED10', u'CLOSED11', u'CLOSED12',\n",
      "       u'CLOSED13', u'CLOSED14', u'CLOSED'],\n",
      "      dtype='object')\n"
     ]
    },
    {
     "name": "stderr",
     "output_type": "stream",
     "text": [
      "/Users/willhuguenin/anaconda/lib/python2.7/site-packages/IPython/core/interactiveshell.py:2902: DtypeWarning: Columns (4,5,8,17,21,24,26,33,34,35) have mixed types. Specify dtype option on import or set low_memory=False.\n",
      "  interactivity=interactivity, compiler=compiler, result=result)\n"
     ]
    },
    {
     "data": {
      "text/html": [
       "<div>\n",
       "<table border=\"1\" class=\"dataframe\">\n",
       "  <thead>\n",
       "    <tr style=\"text-align: right;\">\n",
       "      <th></th>\n",
       "      <th>NCESSCH</th>\n",
       "      <th>FIPST</th>\n",
       "      <th>CONUM</th>\n",
       "      <th>STATE</th>\n",
       "      <th>COUNTY</th>\n",
       "      <th>LEAID</th>\n",
       "      <th>LEANM</th>\n",
       "      <th>SCHNAM</th>\n",
       "      <th>LSTATE</th>\n",
       "      <th>LEVEL</th>\n",
       "      <th>...</th>\n",
       "      <th>MATH_RANK</th>\n",
       "      <th>ELA_RANK</th>\n",
       "      <th>in_ranks</th>\n",
       "      <th>intercept</th>\n",
       "      <th>CLOSED10</th>\n",
       "      <th>CLOSED11</th>\n",
       "      <th>CLOSED12</th>\n",
       "      <th>CLOSED13</th>\n",
       "      <th>CLOSED14</th>\n",
       "      <th>CLOSED</th>\n",
       "    </tr>\n",
       "  </thead>\n",
       "  <tbody>\n",
       "    <tr>\n",
       "      <th>0</th>\n",
       "      <td>10000201876</td>\n",
       "      <td>1</td>\n",
       "      <td>1117</td>\n",
       "      <td>AL</td>\n",
       "      <td>SHELBY COUNTY</td>\n",
       "      <td>100002</td>\n",
       "      <td>ALABAMA YOUTH SERVICES</td>\n",
       "      <td>ALABAMA YOUTH SERVICES</td>\n",
       "      <td>AL</td>\n",
       "      <td>N</td>\n",
       "      <td>...</td>\n",
       "      <td>NaN</td>\n",
       "      <td>NaN</td>\n",
       "      <td>0</td>\n",
       "      <td>1</td>\n",
       "      <td>0</td>\n",
       "      <td>0</td>\n",
       "      <td>0</td>\n",
       "      <td>0</td>\n",
       "      <td>0</td>\n",
       "      <td>0</td>\n",
       "    </tr>\n",
       "    <tr>\n",
       "      <th>1</th>\n",
       "      <td>10000500870</td>\n",
       "      <td>1</td>\n",
       "      <td>1095</td>\n",
       "      <td>AL</td>\n",
       "      <td>MARSHALL COUNTY</td>\n",
       "      <td>100005</td>\n",
       "      <td>ALBERTVILLE CITY</td>\n",
       "      <td>ALA AVENUE MIDDLE SCH</td>\n",
       "      <td>AL</td>\n",
       "      <td>2</td>\n",
       "      <td>...</td>\n",
       "      <td>0.520302</td>\n",
       "      <td>0.574290</td>\n",
       "      <td>1</td>\n",
       "      <td>1</td>\n",
       "      <td>0</td>\n",
       "      <td>0</td>\n",
       "      <td>0</td>\n",
       "      <td>0</td>\n",
       "      <td>0</td>\n",
       "      <td>0</td>\n",
       "    </tr>\n",
       "    <tr>\n",
       "      <th>2</th>\n",
       "      <td>10000500871</td>\n",
       "      <td>1</td>\n",
       "      <td>1095</td>\n",
       "      <td>AL</td>\n",
       "      <td>MARSHALL COUNTY</td>\n",
       "      <td>100005</td>\n",
       "      <td>ALBERTVILLE CITY</td>\n",
       "      <td>ALBERTVILLE HIGH SCH</td>\n",
       "      <td>AL</td>\n",
       "      <td>3</td>\n",
       "      <td>...</td>\n",
       "      <td>0.850174</td>\n",
       "      <td>0.713511</td>\n",
       "      <td>1</td>\n",
       "      <td>1</td>\n",
       "      <td>0</td>\n",
       "      <td>0</td>\n",
       "      <td>0</td>\n",
       "      <td>0</td>\n",
       "      <td>0</td>\n",
       "      <td>0</td>\n",
       "    </tr>\n",
       "    <tr>\n",
       "      <th>3</th>\n",
       "      <td>10000500879</td>\n",
       "      <td>1</td>\n",
       "      <td>1095</td>\n",
       "      <td>AL</td>\n",
       "      <td>MARSHALL COUNTY</td>\n",
       "      <td>100005</td>\n",
       "      <td>ALBERTVILLE CITY</td>\n",
       "      <td>EVANS ELEM SCH</td>\n",
       "      <td>AL</td>\n",
       "      <td>2</td>\n",
       "      <td>...</td>\n",
       "      <td>0.650910</td>\n",
       "      <td>0.608922</td>\n",
       "      <td>1</td>\n",
       "      <td>1</td>\n",
       "      <td>0</td>\n",
       "      <td>0</td>\n",
       "      <td>0</td>\n",
       "      <td>0</td>\n",
       "      <td>0</td>\n",
       "      <td>0</td>\n",
       "    </tr>\n",
       "    <tr>\n",
       "      <th>4</th>\n",
       "      <td>10000500889</td>\n",
       "      <td>1</td>\n",
       "      <td>1095</td>\n",
       "      <td>AL</td>\n",
       "      <td>MARSHALL COUNTY</td>\n",
       "      <td>100005</td>\n",
       "      <td>ALBERTVILLE CITY</td>\n",
       "      <td>ALBERTVILLE ELEM SCH</td>\n",
       "      <td>AL</td>\n",
       "      <td>1</td>\n",
       "      <td>...</td>\n",
       "      <td>0.831373</td>\n",
       "      <td>0.855913</td>\n",
       "      <td>1</td>\n",
       "      <td>1</td>\n",
       "      <td>0</td>\n",
       "      <td>0</td>\n",
       "      <td>0</td>\n",
       "      <td>0</td>\n",
       "      <td>0</td>\n",
       "      <td>0</td>\n",
       "    </tr>\n",
       "  </tbody>\n",
       "</table>\n",
       "<p>5 rows × 61 columns</p>\n",
       "</div>"
      ],
      "text/plain": [
       "       NCESSCH  FIPST CONUM STATE           COUNTY   LEAID  \\\n",
       "0  10000201876      1  1117    AL    SHELBY COUNTY  100002   \n",
       "1  10000500870      1  1095    AL  MARSHALL COUNTY  100005   \n",
       "2  10000500871      1  1095    AL  MARSHALL COUNTY  100005   \n",
       "3  10000500879      1  1095    AL  MARSHALL COUNTY  100005   \n",
       "4  10000500889      1  1095    AL  MARSHALL COUNTY  100005   \n",
       "\n",
       "                    LEANM                  SCHNAM LSTATE LEVEL   ...    \\\n",
       "0  ALABAMA YOUTH SERVICES  ALABAMA YOUTH SERVICES     AL     N   ...     \n",
       "1        ALBERTVILLE CITY   ALA AVENUE MIDDLE SCH     AL     2   ...     \n",
       "2        ALBERTVILLE CITY    ALBERTVILLE HIGH SCH     AL     3   ...     \n",
       "3        ALBERTVILLE CITY          EVANS ELEM SCH     AL     2   ...     \n",
       "4        ALBERTVILLE CITY    ALBERTVILLE ELEM SCH     AL     1   ...     \n",
       "\n",
       "   MATH_RANK  ELA_RANK  in_ranks  intercept CLOSED10 CLOSED11  CLOSED12  \\\n",
       "0        NaN       NaN         0          1        0        0         0   \n",
       "1   0.520302  0.574290         1          1        0        0         0   \n",
       "2   0.850174  0.713511         1          1        0        0         0   \n",
       "3   0.650910  0.608922         1          1        0        0         0   \n",
       "4   0.831373  0.855913         1          1        0        0         0   \n",
       "\n",
       "   CLOSED13  CLOSED14  CLOSED  \n",
       "0         0         0       0  \n",
       "1         0         0       0  \n",
       "2         0         0       0  \n",
       "3         0         0       0  \n",
       "4         0         0       0  \n",
       "\n",
       "[5 rows x 61 columns]"
      ]
     },
     "execution_count": 1,
     "metadata": {},
     "output_type": "execute_result"
    }
   ],
   "source": [
    "import numpy as np\n",
    "import pandas as pd\n",
    "\n",
    "import seaborn as sns; sns.set()\n",
    "from matplotlib import pyplot as plt\n",
    "%matplotlib inline\n",
    "\n",
    "#Read in State ID and County ID from Raw NCES Data\n",
    "ids=pd.read_table(\"data/ccd/2009-10/sc092a.txt\")[[\"NCESSCH\",\"FIPST\",\"CONUM09\",\"LSTATE09\",\"CONAME09\"]]\n",
    "ids.rename(columns={\"CONUM09\":\"CONUM\", \"LSTATE09\": \"STATE\", \"CONAME09\":\"COUNTY\"}, inplace=True)\n",
    "\n",
    "school=pd.read_pickle(\"data/school_closure_clean.pkl\")\n",
    "\n",
    "merged=pd.merge(ids, school, how=\"right\", on=\"NCESSCH\") #Match back onto clean data\n",
    "\n",
    "print school.shape\n",
    "print merged.shape\n",
    "print merged.columns\n",
    "merged.head(5)"
   ]
  },
  {
   "cell_type": "markdown",
   "metadata": {},
   "source": [
    "#### Create TSV File for d3 Map"
   ]
  },
  {
   "cell_type": "code",
   "execution_count": 2,
   "metadata": {
    "collapsed": false
   },
   "outputs": [],
   "source": [
    "merged[\"CONUM\"]=pd.to_numeric(merged.CONUM, errors=\"coerce\")\n",
    "merged=merged[merged.CONUM.notnull()]\n",
    "merged[\"CONUM\"] = merged[\"CONUM\"].astype(np.int32)"
   ]
  },
  {
   "cell_type": "code",
   "execution_count": 3,
   "metadata": {
    "collapsed": false
   },
   "outputs": [
    {
     "data": {
      "text/html": [
       "<div>\n",
       "<table border=\"1\" class=\"dataframe\">\n",
       "  <thead>\n",
       "    <tr style=\"text-align: right;\">\n",
       "      <th></th>\n",
       "      <th>id</th>\n",
       "      <th>total</th>\n",
       "      <th>closed</th>\n",
       "      <th>rate</th>\n",
       "    </tr>\n",
       "  </thead>\n",
       "  <tbody>\n",
       "    <tr>\n",
       "      <th>0</th>\n",
       "      <td>1001</td>\n",
       "      <td>12</td>\n",
       "      <td>0</td>\n",
       "      <td>0.000000</td>\n",
       "    </tr>\n",
       "    <tr>\n",
       "      <th>1</th>\n",
       "      <td>1003</td>\n",
       "      <td>43</td>\n",
       "      <td>1</td>\n",
       "      <td>0.023256</td>\n",
       "    </tr>\n",
       "    <tr>\n",
       "      <th>2</th>\n",
       "      <td>1005</td>\n",
       "      <td>9</td>\n",
       "      <td>1</td>\n",
       "      <td>0.111111</td>\n",
       "    </tr>\n",
       "    <tr>\n",
       "      <th>3</th>\n",
       "      <td>1007</td>\n",
       "      <td>10</td>\n",
       "      <td>1</td>\n",
       "      <td>0.100000</td>\n",
       "    </tr>\n",
       "    <tr>\n",
       "      <th>4</th>\n",
       "      <td>1009</td>\n",
       "      <td>16</td>\n",
       "      <td>0</td>\n",
       "      <td>0.000000</td>\n",
       "    </tr>\n",
       "    <tr>\n",
       "      <th>5</th>\n",
       "      <td>1011</td>\n",
       "      <td>4</td>\n",
       "      <td>1</td>\n",
       "      <td>0.250000</td>\n",
       "    </tr>\n",
       "    <tr>\n",
       "      <th>6</th>\n",
       "      <td>1013</td>\n",
       "      <td>6</td>\n",
       "      <td>0</td>\n",
       "      <td>0.000000</td>\n",
       "    </tr>\n",
       "    <tr>\n",
       "      <th>7</th>\n",
       "      <td>1015</td>\n",
       "      <td>34</td>\n",
       "      <td>0</td>\n",
       "      <td>0.000000</td>\n",
       "    </tr>\n",
       "    <tr>\n",
       "      <th>8</th>\n",
       "      <td>1017</td>\n",
       "      <td>13</td>\n",
       "      <td>0</td>\n",
       "      <td>0.000000</td>\n",
       "    </tr>\n",
       "    <tr>\n",
       "      <th>9</th>\n",
       "      <td>1019</td>\n",
       "      <td>7</td>\n",
       "      <td>0</td>\n",
       "      <td>0.000000</td>\n",
       "    </tr>\n",
       "  </tbody>\n",
       "</table>\n",
       "</div>"
      ],
      "text/plain": [
       "     id  total  closed      rate\n",
       "0  1001     12       0  0.000000\n",
       "1  1003     43       1  0.023256\n",
       "2  1005      9       1  0.111111\n",
       "3  1007     10       1  0.100000\n",
       "4  1009     16       0  0.000000\n",
       "5  1011      4       1  0.250000\n",
       "6  1013      6       0  0.000000\n",
       "7  1015     34       0  0.000000\n",
       "8  1017     13       0  0.000000\n",
       "9  1019      7       0  0.000000"
      ]
     },
     "execution_count": 3,
     "metadata": {},
     "output_type": "execute_result"
    }
   ],
   "source": [
    "bycounty = merged.groupby(by=\"CONUM\", as_index=False)[[\"intercept\",\"CLOSED\"]].sum()\n",
    "bycounty.rename(columns={\"CLOSED\":\"closed\", \"intercept\": \"total\"}, inplace=True)\n",
    "\n",
    "bycounty[\"rate\"] = bycounty.closed / bycounty.total\n",
    "bycounty.rename(columns={\"CONUM\":\"id\", \"intercept\":\"total\"}, inplace=True)\n",
    "\n",
    "bycounty[[\"id\",\"rate\"]].to_csv(\"graphics/d3-map/close_rate_bycnty.tsv\", sep=\"\\t\", index=False)\n",
    "bycounty.head(10)"
   ]
  },
  {
   "cell_type": "markdown",
   "metadata": {},
   "source": [
    "#### Look at Counties with Highest School Closure Rates"
   ]
  },
  {
   "cell_type": "code",
   "execution_count": 4,
   "metadata": {
    "collapsed": false
   },
   "outputs": [
    {
     "data": {
      "text/html": [
       "<div>\n",
       "<table border=\"1\" class=\"dataframe\">\n",
       "  <thead>\n",
       "    <tr style=\"text-align: right;\">\n",
       "      <th></th>\n",
       "      <th>STATE</th>\n",
       "      <th>COUNTY</th>\n",
       "      <th>total</th>\n",
       "      <th>closed</th>\n",
       "      <th>rate</th>\n",
       "    </tr>\n",
       "  </thead>\n",
       "  <tbody>\n",
       "    <tr>\n",
       "      <th>2897</th>\n",
       "      <td>VA</td>\n",
       "      <td>BLAND COUNTY</td>\n",
       "      <td>4</td>\n",
       "      <td>4</td>\n",
       "      <td>1.000000</td>\n",
       "    </tr>\n",
       "    <tr>\n",
       "      <th>1846</th>\n",
       "      <td>NE</td>\n",
       "      <td>GREELEY COUNTY</td>\n",
       "      <td>7</td>\n",
       "      <td>7</td>\n",
       "      <td>1.000000</td>\n",
       "    </tr>\n",
       "    <tr>\n",
       "      <th>896</th>\n",
       "      <td>KS</td>\n",
       "      <td>CHASE COUNTY</td>\n",
       "      <td>3</td>\n",
       "      <td>3</td>\n",
       "      <td>1.000000</td>\n",
       "    </tr>\n",
       "    <tr>\n",
       "      <th>1581</th>\n",
       "      <td>MS</td>\n",
       "      <td>SUNFLOWER COUNTY</td>\n",
       "      <td>15</td>\n",
       "      <td>14</td>\n",
       "      <td>0.933333</td>\n",
       "    </tr>\n",
       "    <tr>\n",
       "      <th>953</th>\n",
       "      <td>KS</td>\n",
       "      <td>NEMAHA COUNTY</td>\n",
       "      <td>13</td>\n",
       "      <td>11</td>\n",
       "      <td>0.846154</td>\n",
       "    </tr>\n",
       "    <tr>\n",
       "      <th>1017</th>\n",
       "      <td>KY</td>\n",
       "      <td>CLARK COUNTY</td>\n",
       "      <td>12</td>\n",
       "      <td>10</td>\n",
       "      <td>0.833333</td>\n",
       "    </tr>\n",
       "    <tr>\n",
       "      <th>187</th>\n",
       "      <td>CA</td>\n",
       "      <td>ALPINE COUNTY</td>\n",
       "      <td>4</td>\n",
       "      <td>3</td>\n",
       "      <td>0.750000</td>\n",
       "    </tr>\n",
       "    <tr>\n",
       "      <th>3007</th>\n",
       "      <td>VA</td>\n",
       "      <td>SUSSEX COUNTY</td>\n",
       "      <td>4</td>\n",
       "      <td>3</td>\n",
       "      <td>0.750000</td>\n",
       "    </tr>\n",
       "    <tr>\n",
       "      <th>2290</th>\n",
       "      <td>PA</td>\n",
       "      <td>MIFFLIN COUNTY</td>\n",
       "      <td>14</td>\n",
       "      <td>10</td>\n",
       "      <td>0.714286</td>\n",
       "    </tr>\n",
       "    <tr>\n",
       "      <th>2902</th>\n",
       "      <td>VA</td>\n",
       "      <td>BUCKINGHAM COUNTY</td>\n",
       "      <td>6</td>\n",
       "      <td>4</td>\n",
       "      <td>0.666667</td>\n",
       "    </tr>\n",
       "  </tbody>\n",
       "</table>\n",
       "</div>"
      ],
      "text/plain": [
       "     STATE             COUNTY  total  closed      rate\n",
       "2897    VA       BLAND COUNTY      4       4  1.000000\n",
       "1846    NE     GREELEY COUNTY      7       7  1.000000\n",
       "896     KS       CHASE COUNTY      3       3  1.000000\n",
       "1581    MS   SUNFLOWER COUNTY     15      14  0.933333\n",
       "953     KS      NEMAHA COUNTY     13      11  0.846154\n",
       "1017    KY       CLARK COUNTY     12      10  0.833333\n",
       "187     CA      ALPINE COUNTY      4       3  0.750000\n",
       "3007    VA      SUSSEX COUNTY      4       3  0.750000\n",
       "2290    PA     MIFFLIN COUNTY     14      10  0.714286\n",
       "2902    VA  BUCKINGHAM COUNTY      6       4  0.666667"
      ]
     },
     "execution_count": 4,
     "metadata": {},
     "output_type": "execute_result"
    }
   ],
   "source": [
    "view=merged.groupby(by=[\"STATE\",\"COUNTY\"], as_index=False)[[\"intercept\",\"CLOSED\"]].sum()\n",
    "view.rename(columns={\"CLOSED\":\"closed\", \"intercept\": \"total\"}, inplace=True)\n",
    "view[\"rate\"] = view.closed / view.total\n",
    "#view.head(10)\n",
    "#view.total.describe()\n",
    "view.sort_values(by=\"rate\", ascending=False).head(10)"
   ]
  },
  {
   "cell_type": "markdown",
   "metadata": {},
   "source": [
    "#### Look at Closure Rates by Different Categorical Features"
   ]
  },
  {
   "cell_type": "code",
   "execution_count": 5,
   "metadata": {
    "collapsed": false
   },
   "outputs": [
    {
     "name": "stdout",
     "output_type": "stream",
     "text": [
      "Index([u'NCESSCH', u'FIPST', u'CONUM', u'STATE', u'COUNTY', u'LEAID', u'LEANM',\n",
      "       u'SCHNAM', u'LSTATE', u'LEVEL', u'TYPE', u'STATUS', u'ULOCAL', u'FTE',\n",
      "       u'TITLEI', u'STITLI', u'MAGNET', u'CHARTR', u'SHARED', u'TOTFRL',\n",
      "       u'MEMBER', u'WHITE', u'TOTETH', u'NEW_ENGLAND', u'MID_ATLANTIC',\n",
      "       u'EAST_NORTH_CENTL', u'WEST_NORTH_CENTL', u'SOUTH_ATLANTIC',\n",
      "       u'EAST_SOUTH_CENTL', u'WEST_SOUTH_CENTL', u'MOUNTAIN', u'PACIFIC',\n",
      "       u'CITY', u'SUBURB', u'TOWN', u'RURAL', u'ELEM', u'MIDDLE', u'HIGH',\n",
      "       u'OTHER', u'T1_ALL', u'T1_SOME', u'T1_NONE', u'PCT_MINORITY',\n",
      "       u'PCT_FRL', u'ST_RATIO', u'STNAM', u'MATH_PROF', u'ELA_PROF',\n",
      "       u'MATH_PROF_CLN', u'ELA_PROF_CLN', u'MATH_RANK', u'ELA_RANK',\n",
      "       u'in_ranks', u'intercept', u'CLOSED10', u'CLOSED11', u'CLOSED12',\n",
      "       u'CLOSED13', u'CLOSED14', u'CLOSED'],\n",
      "      dtype='object')\n",
      "0.0625725627218\n"
     ]
    }
   ],
   "source": [
    "print merged.columns\n",
    "print float(merged.CLOSED.value_counts()[1]) / merged.shape[0]"
   ]
  },
  {
   "cell_type": "code",
   "execution_count": 6,
   "metadata": {
    "collapsed": false
   },
   "outputs": [
    {
     "name": "stdout",
     "output_type": "stream",
     "text": [
      "   MAGNET    CLOSED\n",
      "0       0  0.062164\n",
      "1       1  0.079314\n",
      "   CHARTR    CLOSED\n",
      "0       0  0.058052\n",
      "1       1  0.150725\n",
      "   SHARED    CLOSED\n",
      "0       0  0.062479\n",
      "1       1  0.073587\n"
     ]
    }
   ],
   "source": [
    "def closure_rate(variables):\n",
    "    for variable in variables:\n",
    "        print merged.groupby(by=variable, as_index=False)[\"CLOSED\"].mean()\n",
    "\n",
    "closure_rate([\"MAGNET\",\"CHARTR\",\"SHARED\"])"
   ]
  },
  {
   "cell_type": "code",
   "execution_count": 7,
   "metadata": {
    "collapsed": false
   },
   "outputs": [
    {
     "name": "stdout",
     "output_type": "stream",
     "text": [
      "   NEW_ENGLAND    CLOSED\n",
      "0            0  0.062889\n",
      "1            1  0.056541\n",
      "   MID_ATLANTIC    CLOSED\n",
      "0             0  0.061422\n",
      "1             1  0.071748\n",
      "   EAST_NORTH_CENTL    CLOSED\n",
      "0                 0  0.056078\n",
      "1                 1  0.095216\n",
      "   WEST_NORTH_CENTL    CLOSED\n",
      "0                 0  0.060609\n",
      "1                 1  0.080562\n",
      "   SOUTH_ATLANTIC    CLOSED\n",
      "0               0  0.065047\n",
      "1               1  0.050206\n",
      "   EAST_SOUTH_CENTL    CLOSED\n",
      "0                 0  0.062864\n",
      "1                 1  0.057835\n",
      "   WEST_SOUTH_CENTL    CLOSED\n",
      "0                 0  0.064253\n",
      "1                 1  0.051178\n",
      "   MOUNTAIN    CLOSED\n",
      "0         0  0.066312\n",
      "1         1  0.045336\n",
      "   PACIFIC    CLOSED\n",
      "0        0  0.063654\n",
      "1        1  0.038432\n"
     ]
    }
   ],
   "source": [
    "closure_rate([\"NEW_ENGLAND\",\"MID_ATLANTIC\",\"EAST_NORTH_CENTL\",\"WEST_NORTH_CENTL\",\"SOUTH_ATLANTIC\",\"EAST_SOUTH_CENTL\",\\\n",
    "              \"WEST_SOUTH_CENTL\",\"MOUNTAIN\",\"PACIFIC\"])"
   ]
  },
  {
   "cell_type": "code",
   "execution_count": 8,
   "metadata": {
    "collapsed": false
   },
   "outputs": [
    {
     "name": "stdout",
     "output_type": "stream",
     "text": [
      "   CITY    CLOSED\n",
      "0     0  0.056325\n",
      "1     1  0.080937\n",
      "   SUBURB    CLOSED\n",
      "0       0  0.069063\n",
      "1       1  0.046055\n",
      "   TOWN    CLOSED\n",
      "0     0  0.061879\n",
      "1     1  0.067010\n",
      "   RURAL    CLOSED\n",
      "0      0  0.063469\n",
      "1      1  0.060744\n"
     ]
    }
   ],
   "source": [
    "closure_rate([\"CITY\",\"SUBURB\",\"TOWN\",\"RURAL\"])"
   ]
  },
  {
   "cell_type": "code",
   "execution_count": 9,
   "metadata": {
    "collapsed": false
   },
   "outputs": [
    {
     "name": "stdout",
     "output_type": "stream",
     "text": [
      "   ELEM    CLOSED\n",
      "0     0  0.064344\n",
      "1     1  0.061343\n",
      "   MIDDLE    CLOSED\n",
      "0       0  0.061856\n",
      "1       1  0.065731\n",
      "   HIGH    CLOSED\n",
      "0     0  0.066159\n",
      "1     1  0.046351\n",
      "   OTHER    CLOSED\n",
      "0      0  0.059354\n",
      "1      1  0.133215\n"
     ]
    }
   ],
   "source": [
    "closure_rate([\"ELEM\",\"MIDDLE\",\"HIGH\",\"OTHER\"])"
   ]
  },
  {
   "cell_type": "code",
   "execution_count": 10,
   "metadata": {
    "collapsed": false
   },
   "outputs": [
    {
     "name": "stdout",
     "output_type": "stream",
     "text": [
      "   T1_ALL    CLOSED\n",
      "0       0  0.051308\n",
      "1       1  0.074192\n",
      "   T1_SOME    CLOSED\n",
      "0        0  0.065262\n",
      "1        1  0.052664\n",
      "   T1_NONE    CLOSED\n",
      "0        0  0.067535\n",
      "1        1  0.050291\n"
     ]
    }
   ],
   "source": [
    "closure_rate([\"T1_ALL\",\"T1_SOME\",\"T1_NONE\"])"
   ]
  },
  {
   "cell_type": "markdown",
   "metadata": {},
   "source": [
    "#### Paired Bar Graph of Continuous Characteristics by Open vs. Closed"
   ]
  },
  {
   "cell_type": "code",
   "execution_count": 11,
   "metadata": {
    "collapsed": false
   },
   "outputs": [
    {
     "name": "stdout",
     "output_type": "stream",
     "text": [
      "   CLOSED      MEMBER\n",
      "0       0  537.004273\n",
      "1       1  283.988244\n",
      "   CLOSED  PCT_MINORITY\n",
      "0       0      0.419009\n",
      "1       1      0.505188\n",
      "   CLOSED   PCT_FRL\n",
      "0       0  0.494527\n",
      "1       1  0.626701\n",
      "   CLOSED   ST_RATIO\n",
      "0       0  15.809348\n",
      "1       1  14.745437\n",
      "   CLOSED  MATH_RANK\n",
      "0       0   0.518412\n",
      "1       1   0.414847\n",
      "   CLOSED  ELA_RANK\n",
      "0       0  0.516018\n",
      "1       1  0.405709\n"
     ]
    }
   ],
   "source": [
    "def by_closure(variables):\n",
    "    for variable in variables:\n",
    "        print merged.groupby(by=\"CLOSED\", as_index=False)[variable].mean()\n",
    "\n",
    "by_closure([\"MEMBER\",\"PCT_MINORITY\",\"PCT_FRL\", \"ST_RATIO\",\"MATH_RANK\",\"ELA_RANK\"])"
   ]
  },
  {
   "cell_type": "code",
   "execution_count": 12,
   "metadata": {
    "collapsed": false
   },
   "outputs": [
    {
     "data": {
      "image/png": "[encoded data removed]",
      "text/plain": [
       "<matplotlib.figure.Figure at 0x115350290>"
      ]
     },
     "metadata": {},
     "output_type": "display_data"
    }
   ],
   "source": [
    "def graph_by_closure(df, variables):\n",
    "    new_df=pd.DataFrame()\n",
    "    \n",
    "    for variable in variables:\n",
    "        temp_df=pd.DataFrame({\"var\":variable, \"closed\": df[\"CLOSED\"], \"value\": df[variable].apply(lambda x: x*100)})\n",
    "        \n",
    "        new_df=pd.concat([new_df, temp_df], axis=0)\n",
    "\n",
    "    new_df[\"closed_txt\"]=\"Open\"\n",
    "    new_df.ix[new_df.closed==1, \"closed_txt\"]=\"Closed\"\n",
    "      \n",
    "    return sns.boxplot(x=\"var\", y=\"value\", hue=\"closed_txt\", data=new_df, palette=[green, red])\n",
    "\n",
    "\n",
    "plt.figure(figsize=(20,10))\n",
    "green = sns.color_palette(\"deep\")[1]\n",
    "red = sns.color_palette(\"deep\")[2]\n",
    "\n",
    "fig = graph_by_closure(merged, [\"PCT_MINORITY\",\"PCT_FRL\",\"MATH_RANK\",\"ELA_RANK\"])\n",
    "plt.legend(loc=\"best\", fontsize=24)\n",
    "\n",
    "plt.xlabel(\" \")\n",
    "plt.ylabel(\"(%)\", fontsize=28)\n",
    "fig.set_xticklabels([\"Percent \\nMinority\",\"Percent Free/ \\nReduced Price Lunch\",\\\n",
    "                     \"Math \\nPercentile Rank\",\"ELA \\nPercentile Rank\"])\n",
    "plt.xticks(fontsize=24)\n",
    "plt.yticks(fontsize=24)\n",
    "plt.title(\"School Characteristics by Closure Status\", fontsize=32)\n",
    "plt.savefig(\"graphics/school-char-by-closure.png\")"
   ]
  },
  {
   "cell_type": "code",
   "execution_count": null,
   "metadata": {
    "collapsed": true
   },
   "outputs": [],
   "source": []
  }
 ],
 "metadata": {
  "kernelspec": {
   "display_name": "Python 2",
   "language": "python",
   "name": "python2"
  },
  "language_info": {
   "codemirror_mode": {
    "name": "ipython",
    "version": 2
   },
   "file_extension": ".py",
   "mimetype": "text/x-python",
   "name": "python",
   "nbconvert_exporter": "python",
   "pygments_lexer": "ipython2",
   "version": "2.7.10"
  }
 },
 "nbformat": 4,
 "nbformat_minor": 0
}
