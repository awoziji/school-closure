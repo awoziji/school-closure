{
 "cells": [
  {
   "cell_type": "markdown",
   "metadata": {},
   "source": [
    "### 01-school-closure-clean.ipynb\n",
    "* **Script**: 01-school-closure-clean.ipynb\n",
    "* **Purpose**: Import raw NCES CCD and EdFacts data, clean, and engineer features.\n",
    "* **Input**: NCES CCD School-Level Data from 2009-10 (download [here](https://nces.ed.gov/ccd/pubschuniv.asp)), EdFacts Math/ELA Percent Proficiency Data for 2009-10 (download [here](http://www2.ed.gov/about/inits/ed/edfacts/data-files/index.html)).\n",
    "* **Output**: data/school_closure_clean.pkl"
   ]
  },
  {
   "cell_type": "code",
   "execution_count": 8,
   "metadata": {
    "collapsed": false
   },
   "outputs": [],
   "source": [
    "import numpy as np\n",
    "import pandas as pd\n",
    "from matplotlib import pyplot as plt\n",
    "%matplotlib inline"
   ]
  },
  {
   "cell_type": "markdown",
   "metadata": {},
   "source": [
    "#### Import 2009-10 NCES School-Level CCD File. \n",
    "(Data not saved to GH - You may have to adjust the file path depending on where you save and unzip the files)"
   ]
  },
  {
   "cell_type": "code",
   "execution_count": 9,
   "metadata": {
    "collapsed": false
   },
   "outputs": [
    {
     "name": "stdout",
     "output_type": "stream",
     "text": [
      "(90969, 19)\n"
     ]
    }
   ],
   "source": [
    "variables=[\"NCESSCH\",\"LEAID\",\"LEANM09\",\"SCHNAM09\",\"LSTATE09\",\"LEVEL09\",\"TYPE09\",\\\n",
    "           \"STATUS09\",\"ULOCAL09\",\"FTE09\",\"TITLEI09\",\"STITLI09\",\"MAGNET09\",\"CHARTR09\",\\\n",
    "           \"SHARED09\",\"TOTFRL09\",\"MEMBER09\",\"WHITE09\",\"TOTETH09\"]\n",
    "\n",
    "school=pd.read_table(\"data/ccd/2009-10/sc092a.txt\")[variables]\n",
    "\n",
    "#Remove \"09\" from variable name suffixes\n",
    "vardict = {}\n",
    "for variable in variables:\n",
    "    if variable[-2:]==\"09\":\n",
    "        vardict[variable]=variable[:-2]\n",
    "school.rename(columns = vardict, inplace=True)\n",
    "        \n",
    "##Subset to only regular schools operational in 2009-10\n",
    "school=school[(school.TYPE==1) & (school.STATUS.isin([1,3,4,5,8]))]\n",
    "print school.shape"
   ]
  },
  {
   "cell_type": "markdown",
   "metadata": {},
   "source": [
    "#### Engineer Features\n",
    "#### Pool states into geographic regions (based on [U.S. Census Definitions](http://www.census.gov/econ/census/help/geography/regions_and_divisions.html))"
   ]
  },
  {
   "cell_type": "code",
   "execution_count": 10,
   "metadata": {
    "collapsed": false
   },
   "outputs": [
    {
     "name": "stdout",
     "output_type": "stream",
     "text": [
      "1    90969\n",
      "dtype: int64\n"
     ]
    }
   ],
   "source": [
    "def pool(df, pooled, unpooled, values):\n",
    "    df[pooled]=0\n",
    "    df.ix[df[unpooled].isnull(), pooled]=np.nan\n",
    "    df.ix[df[unpooled].isin(values), pooled]=1\n",
    "\n",
    "pool(school, \"NEW_ENGLAND\",\"LSTATE\",[\"CT\",\"ME\",\"MA\",\"NH\",\"RI\",\"VT\"])\n",
    "pool(school, \"MID_ATLANTIC\",\"LSTATE\",[\"NJ\",\"NY\",\"PA\"])\n",
    "pool(school, \"EAST_NORTH_CENTL\",\"LSTATE\",[\"IL\",\"IN\",\"MI\",\"OH\",\"WI\",\"AE\"])\n",
    "pool(school, \"WEST_NORTH_CENTL\",\"LSTATE\",[\"IA\",\"KS\",\"MN\",\"MO\",\"NE\",\"ND\",\"SD\"])\n",
    "pool(school, \"SOUTH_ATLANTIC\", \"LSTATE\",[\"DE\",\"DC\",\"FL\",\"GA\",\"MD\",\"NC\",\"SC\",\"VA\",\"WV\",\"VI\",\"PR\"])\n",
    "pool(school, \"EAST_SOUTH_CENTL\", \"LSTATE\",[\"AL\",\"KY\",\"MS\",\"TN\"])\n",
    "pool(school, \"WEST_SOUTH_CENTL\", \"LSTATE\",[\"AR\",\"LA\",\"OK\",\"TX\"])\n",
    "pool(school, \"MOUNTAIN\", \"LSTATE\",[\"AZ\",\"CA\",\"CO\",\"ID\",\"MT\",\"NV\",\"NM\",\"UT\",\"WY\"])    \n",
    "pool(school, \"PACIFIC\", \"LSTATE\", [\"AK\",\"HI\",\"OR\",\"WA\",\"AP\",\"AS\",\"MP\",\"GU\"])\n",
    "\n",
    "print school[[\"NEW_ENGLAND\",\"MID_ATLANTIC\",\"EAST_NORTH_CENTL\",\"WEST_NORTH_CENTL\",\\\n",
    "                     \"SOUTH_ATLANTIC\",\"EAST_SOUTH_CENTL\",\"WEST_SOUTH_CENTL\",\\\n",
    "             \"MOUNTAIN\",\"PACIFIC\"]].sum(axis=1).value_counts(dropna=False)"
   ]
  },
  {
   "cell_type": "markdown",
   "metadata": {},
   "source": [
    "#### Pool urbanacities into general categories (Urban, Suburb, Town, Rural)"
   ]
  },
  {
   "cell_type": "code",
   "execution_count": 11,
   "metadata": {
    "collapsed": false
   },
   "outputs": [
    {
     "name": "stdout",
     "output_type": "stream",
     "text": [
      "CITY        0      1\n",
      "ULOCAL              \n",
      "11          0  12026\n",
      "12          0   4977\n",
      "13          0   5984\n",
      "21      21103      0\n",
      "22       2670      0\n",
      "23       1742      0\n",
      "31       1775      0\n",
      "32       6151      0\n",
      "33       4301      0\n",
      "41      12116      0\n",
      "42      10964      0\n",
      "43       6695      0\n",
      "SUBURB      0      1\n",
      "ULOCAL              \n",
      "11      12026      0\n",
      "12       4977      0\n",
      "13       5984      0\n",
      "21          0  21103\n",
      "22          0   2670\n",
      "23          0   1742\n",
      "31       1775      0\n",
      "32       6151      0\n",
      "33       4301      0\n",
      "41      12116      0\n",
      "42      10964      0\n",
      "43       6695      0\n",
      "TOWN        0     1\n",
      "ULOCAL             \n",
      "11      12026     0\n",
      "12       4977     0\n",
      "13       5984     0\n",
      "21      21103     0\n",
      "22       2670     0\n",
      "23       1742     0\n",
      "31          0  1775\n",
      "32          0  6151\n",
      "33          0  4301\n",
      "41      12116     0\n",
      "42      10964     0\n",
      "43       6695     0\n",
      "RURAL       0      1\n",
      "ULOCAL              \n",
      "11      12026      0\n",
      "12       4977      0\n",
      "13       5984      0\n",
      "21      21103      0\n",
      "22       2670      0\n",
      "23       1742      0\n",
      "31       1775      0\n",
      "32       6151      0\n",
      "33       4301      0\n",
      "41          0  12116\n",
      "42          0  10964\n",
      "43          0   6695\n"
     ]
    }
   ],
   "source": [
    "school[\"ULOCAL\"]=pd.to_numeric(school.ULOCAL, errors=\"coerce\")\n",
    "\n",
    "pool(school, \"CITY\",  \"ULOCAL\",[11,12,13])\n",
    "pool(school, \"SUBURB\",\"ULOCAL\",[21,22,23])\n",
    "pool(school, \"TOWN\",  \"ULOCAL\",[31,32,33])\n",
    "pool(school, \"RURAL\", \"ULOCAL\",[41,42,43])\n",
    "\n",
    "print pd.crosstab(school.ULOCAL, school.CITY)\n",
    "print pd.crosstab(school.ULOCAL, school.SUBURB)\n",
    "print pd.crosstab(school.ULOCAL, school.TOWN)\n",
    "print pd.crosstab(school.ULOCAL, school.RURAL)"
   ]
  },
  {
   "cell_type": "markdown",
   "metadata": {},
   "source": [
    "#### Clean Magnet, Charter and Shared-Time School Flags"
   ]
  },
  {
   "cell_type": "code",
   "execution_count": 12,
   "metadata": {
    "collapsed": false
   },
   "outputs": [
    {
     "name": "stdout",
     "output_type": "stream",
     "text": [
      "2    39674\n",
      "N    29948\n",
      "M    11713\n",
      "2     7476\n",
      "1     1931\n",
      "1      227\n",
      "Name: MAGNET, dtype: int64\n",
      "2    62245\n",
      "2    13209\n",
      "N    11051\n",
      "1     3734\n",
      "1      698\n",
      "M       32\n",
      "Name: CHARTR, dtype: int64\n",
      "2    61656\n",
      "M    17407\n",
      "2    11145\n",
      "1      754\n",
      "1        7\n",
      "Name: SHARED, dtype: int64\n",
      "0    88811\n",
      "1     2158\n",
      "Name: MAGNET, dtype: int64\n",
      "0    86537\n",
      "1     4432\n",
      "Name: CHARTR, dtype: int64\n",
      "0    90208\n",
      "1      761\n",
      "Name: SHARED, dtype: int64\n"
     ]
    }
   ],
   "source": [
    "print school.MAGNET.value_counts(dropna=False)\n",
    "print school.CHARTR.value_counts(dropna=False)\n",
    "print school.SHARED.value_counts(dropna=False)\n",
    "\n",
    "school[\"MAGNET\"]=pd.to_numeric(school.MAGNET, errors=\"coerce\")\n",
    "school[\"CHARTR\"]=pd.to_numeric(school.CHARTR, errors=\"coerce\")\n",
    "school[\"SHARED\"]=pd.to_numeric(school.SHARED, errors=\"coerce\")\n",
    "\n",
    "school.ix[school.MAGNET !=1, \"MAGNET\"]=0\n",
    "school.ix[school.CHARTR !=1, \"CHARTR\"]=0\n",
    "school.ix[school.SHARED !=1, \"SHARED\"]=0\n",
    "\n",
    "print school.MAGNET.value_counts(dropna=False)\n",
    "print school.CHARTR.value_counts(dropna=False)\n",
    "print school.SHARED.value_counts(dropna=False)"
   ]
  },
  {
   "cell_type": "markdown",
   "metadata": {},
   "source": [
    "#### Break school level variables into indidvidual 0/1 flags"
   ]
  },
  {
   "cell_type": "code",
   "execution_count": 13,
   "metadata": {
    "collapsed": false
   },
   "outputs": [
    {
     "name": "stdout",
     "output_type": "stream",
     "text": [
      "1    53701\n",
      "2    16790\n",
      "3    16465\n",
      "4     3745\n",
      "N      268\n",
      "Name: LEVEL, dtype: int64\n",
      "ELEM       0      1\n",
      "LEVEL              \n",
      "1          0  53701\n",
      "2      16790      0\n",
      "3      16465      0\n",
      "4       3745      0\n",
      "N        268      0\n",
      "MIDDLE      0      1\n",
      "LEVEL               \n",
      "1       53701      0\n",
      "2           0  16790\n",
      "3       16465      0\n",
      "4        3745      0\n",
      "N         268      0\n",
      "HIGH       0      1\n",
      "LEVEL              \n",
      "1      53701      0\n",
      "2      16790      0\n",
      "3          0  16465\n",
      "4       3745      0\n",
      "N        268      0\n",
      "OTHER      0     1\n",
      "LEVEL             \n",
      "1      53701     0\n",
      "2      16790     0\n",
      "3      16465     0\n",
      "4          0  3745\n",
      "N          0   268\n"
     ]
    }
   ],
   "source": [
    "#School Level (ELEMENTARY, MIDDLE, HIGH, OTHER)\n",
    "print school.LEVEL.value_counts(dropna=False)\n",
    "\n",
    "school[\"ELEM\"]=0\n",
    "school[\"MIDDLE\"]=0\n",
    "school[\"HIGH\"]=0\n",
    "school[\"OTHER\"]=0\n",
    "\n",
    "school.ix[school.LEVEL==\"1\", \"ELEM\"]=1\n",
    "school.ix[school.LEVEL==\"2\", \"MIDDLE\"]=1\n",
    "school.ix[school.LEVEL==\"3\", \"HIGH\"]=1\n",
    "school.ix[school.LEVEL.isin([\"4\",\"N\"]),\"OTHER\"]=1\n",
    "\n",
    "print pd.crosstab(school.LEVEL, school.ELEM)\n",
    "print pd.crosstab(school.LEVEL, school.MIDDLE)\n",
    "print pd.crosstab(school.LEVEL, school.HIGH)\n",
    "print pd.crosstab(school.LEVEL, school.OTHER)"
   ]
  },
  {
   "cell_type": "markdown",
   "metadata": {},
   "source": [
    "#### Create Title I Flags (All Students, Some Students, No Students)"
   ]
  },
  {
   "cell_type": "code",
   "execution_count": 14,
   "metadata": {
    "collapsed": false
   },
   "outputs": [
    {
     "data": {
      "text/html": [
       "<div>\n",
       "<table border=\"1\" class=\"dataframe\">\n",
       "  <thead>\n",
       "    <tr style=\"text-align: right;\">\n",
       "      <th>STITLI</th>\n",
       "      <th>1</th>\n",
       "      <th>2</th>\n",
       "      <th>M</th>\n",
       "      <th>N</th>\n",
       "    </tr>\n",
       "    <tr>\n",
       "      <th>TITLEI</th>\n",
       "      <th></th>\n",
       "      <th></th>\n",
       "      <th></th>\n",
       "      <th></th>\n",
       "    </tr>\n",
       "  </thead>\n",
       "  <tbody>\n",
       "    <tr>\n",
       "      <th>1</th>\n",
       "      <td>44275</td>\n",
       "      <td>19738</td>\n",
       "      <td>0</td>\n",
       "      <td>0</td>\n",
       "    </tr>\n",
       "    <tr>\n",
       "      <th>2</th>\n",
       "      <td>0</td>\n",
       "      <td>0</td>\n",
       "      <td>0</td>\n",
       "      <td>25528</td>\n",
       "    </tr>\n",
       "    <tr>\n",
       "      <th>M</th>\n",
       "      <td>0</td>\n",
       "      <td>0</td>\n",
       "      <td>637</td>\n",
       "      <td>0</td>\n",
       "    </tr>\n",
       "    <tr>\n",
       "      <th>N</th>\n",
       "      <td>0</td>\n",
       "      <td>0</td>\n",
       "      <td>0</td>\n",
       "      <td>791</td>\n",
       "    </tr>\n",
       "  </tbody>\n",
       "</table>\n",
       "</div>"
      ],
      "text/plain": [
       "STITLI      1      2    M      N\n",
       "TITLEI                          \n",
       "1       44275  19738    0      0\n",
       "2           0      0    0  25528\n",
       "M           0      0  637      0\n",
       "N           0      0    0    791"
      ]
     },
     "execution_count": 14,
     "metadata": {},
     "output_type": "execute_result"
    }
   ],
   "source": [
    "pd.crosstab(school.TITLEI, school.STITLI)"
   ]
  },
  {
   "cell_type": "code",
   "execution_count": 15,
   "metadata": {
    "collapsed": false
   },
   "outputs": [
    {
     "name": "stdout",
     "output_type": "stream",
     "text": [
      " 0     46057\n",
      " 1     44275\n",
      "NaN      637\n",
      "Name: T1_ALL, dtype: int64\n",
      " 0     70594\n",
      " 1     19738\n",
      "NaN      637\n",
      "Name: T1_SOME, dtype: int64\n",
      " 0     64013\n",
      " 1     26319\n",
      "NaN      637\n",
      "Name: T1_NONE, dtype: int64\n"
     ]
    }
   ],
   "source": [
    "school[\"T1_ALL\"]=0\n",
    "school[\"T1_SOME\"]=0\n",
    "school[\"T1_NONE\"]=0\n",
    "\n",
    "school.ix[school.TITLEI==\"M\", \"T1_ALL\"]=np.nan\n",
    "school.ix[school.TITLEI==\"M\", \"T1_SOME\"]=np.nan\n",
    "school.ix[school.TITLEI==\"M\", \"T1_NONE\"]=np.nan\n",
    "\n",
    "school.ix[(school.TITLEI==\"1\") & (school.STITLI==\"1\"), \"T1_ALL\"]=1\n",
    "school.ix[(school.TITLEI==\"1\") & (school.STITLI==\"2\"), \"T1_SOME\"]=1\n",
    "school.ix[(school.TITLEI.isin([\"2\",\"N\"])), \"T1_NONE\"]=1\n",
    "\n",
    "print school.T1_ALL.value_counts(dropna=False)\n",
    "print school.T1_SOME.value_counts(dropna=False)\n",
    "print school.T1_NONE.value_counts(dropna=False)"
   ]
  },
  {
   "cell_type": "markdown",
   "metadata": {},
   "source": [
    "#### Define a function to trim top and bottom 1st pecentiles (e.g outliers) from numeric features"
   ]
  },
  {
   "cell_type": "code",
   "execution_count": 25,
   "metadata": {
    "collapsed": false
   },
   "outputs": [],
   "source": [
    "def trim_outliers(df, variable):\n",
    "    p01=school[variable].quantile(q=0.01)\n",
    "    p99=school[variable].quantile(q=0.99)\n",
    "    \n",
    "    school.ix[(school[variable]<p01) | (school[variable]>p99), variable]=np.nan"
   ]
  },
  {
   "cell_type": "markdown",
   "metadata": {},
   "source": [
    "#### Calculate School Percent Minority Students"
   ]
  },
  {
   "cell_type": "code",
   "execution_count": 26,
   "metadata": {
    "collapsed": false
   },
   "outputs": [
    {
     "data": {
      "text/html": [
       "<div>\n",
       "<table border=\"1\" class=\"dataframe\">\n",
       "  <thead>\n",
       "    <tr style=\"text-align: right;\">\n",
       "      <th></th>\n",
       "      <th>SCHNAM</th>\n",
       "      <th>WHITE</th>\n",
       "      <th>TOTETH</th>\n",
       "      <th>PCT_MINORITY</th>\n",
       "    </tr>\n",
       "  </thead>\n",
       "  <tbody>\n",
       "    <tr>\n",
       "      <th>6</th>\n",
       "      <td>ALABAMA YOUTH SERVICES</td>\n",
       "      <td>NaN</td>\n",
       "      <td>NaN</td>\n",
       "      <td>NaN</td>\n",
       "    </tr>\n",
       "    <tr>\n",
       "      <th>7</th>\n",
       "      <td>ALA AVENUE MIDDLE SCH</td>\n",
       "      <td>373</td>\n",
       "      <td>526</td>\n",
       "      <td>0.290875</td>\n",
       "    </tr>\n",
       "    <tr>\n",
       "      <th>8</th>\n",
       "      <td>ALBERTVILLE HIGH SCH</td>\n",
       "      <td>789</td>\n",
       "      <td>1045</td>\n",
       "      <td>0.244976</td>\n",
       "    </tr>\n",
       "    <tr>\n",
       "      <th>9</th>\n",
       "      <td>EVANS ELEM SCH</td>\n",
       "      <td>395</td>\n",
       "      <td>600</td>\n",
       "      <td>0.341667</td>\n",
       "    </tr>\n",
       "    <tr>\n",
       "      <th>10</th>\n",
       "      <td>ALBERTVILLE ELEM SCH</td>\n",
       "      <td>384</td>\n",
       "      <td>644</td>\n",
       "      <td>0.403727</td>\n",
       "    </tr>\n",
       "  </tbody>\n",
       "</table>\n",
       "</div>"
      ],
      "text/plain": [
       "                    SCHNAM  WHITE  TOTETH  PCT_MINORITY\n",
       "6   ALABAMA YOUTH SERVICES    NaN     NaN           NaN\n",
       "7    ALA AVENUE MIDDLE SCH    373     526      0.290875\n",
       "8     ALBERTVILLE HIGH SCH    789    1045      0.244976\n",
       "9           EVANS ELEM SCH    395     600      0.341667\n",
       "10    ALBERTVILLE ELEM SCH    384     644      0.403727"
      ]
     },
     "execution_count": 26,
     "metadata": {},
     "output_type": "execute_result"
    }
   ],
   "source": [
    "school.ix[school.TOTETH<0, \"TOTETH\"]=np.nan\n",
    "school.ix[school.WHITE<0, \"WHITE\"]=np.nan\n",
    "\n",
    "trim_outliers(school, \"TOTETH\") #clean outliers - drop top and bottom 1st percentiles\n",
    "trim_outliers(school, \"WHITE\") #clean outliers - drop top and bottom 1st percentiles\n",
    "\n",
    "school[\"PCT_MINORITY\"]=((school.TOTETH-school.WHITE)/school.TOTETH)\n",
    "school[[\"SCHNAM\",\"WHITE\",\"TOTETH\",\"PCT_MINORITY\"]].head(5)"
   ]
  },
  {
   "cell_type": "markdown",
   "metadata": {},
   "source": [
    "#### Calculate Percent Free/ Reduced Price Lunch Students"
   ]
  },
  {
   "cell_type": "code",
   "execution_count": 27,
   "metadata": {
    "collapsed": false
   },
   "outputs": [
    {
     "data": {
      "text/html": [
       "<div>\n",
       "<table border=\"1\" class=\"dataframe\">\n",
       "  <thead>\n",
       "    <tr style=\"text-align: right;\">\n",
       "      <th></th>\n",
       "      <th>SCHNAM</th>\n",
       "      <th>MEMBER</th>\n",
       "      <th>TOTFRL</th>\n",
       "      <th>PCT_FRL</th>\n",
       "    </tr>\n",
       "  </thead>\n",
       "  <tbody>\n",
       "    <tr>\n",
       "      <th>6</th>\n",
       "      <td>ALABAMA YOUTH SERVICES</td>\n",
       "      <td>NaN</td>\n",
       "      <td>NaN</td>\n",
       "      <td>NaN</td>\n",
       "    </tr>\n",
       "    <tr>\n",
       "      <th>7</th>\n",
       "      <td>ALA AVENUE MIDDLE SCH</td>\n",
       "      <td>528</td>\n",
       "      <td>320</td>\n",
       "      <td>0.606061</td>\n",
       "    </tr>\n",
       "    <tr>\n",
       "      <th>8</th>\n",
       "      <td>ALBERTVILLE HIGH SCH</td>\n",
       "      <td>1052</td>\n",
       "      <td>471</td>\n",
       "      <td>0.447719</td>\n",
       "    </tr>\n",
       "    <tr>\n",
       "      <th>9</th>\n",
       "      <td>EVANS ELEM SCH</td>\n",
       "      <td>600</td>\n",
       "      <td>394</td>\n",
       "      <td>0.656667</td>\n",
       "    </tr>\n",
       "    <tr>\n",
       "      <th>10</th>\n",
       "      <td>ALBERTVILLE ELEM SCH</td>\n",
       "      <td>644</td>\n",
       "      <td>460</td>\n",
       "      <td>0.714286</td>\n",
       "    </tr>\n",
       "  </tbody>\n",
       "</table>\n",
       "</div>"
      ],
      "text/plain": [
       "                    SCHNAM  MEMBER  TOTFRL   PCT_FRL\n",
       "6   ALABAMA YOUTH SERVICES     NaN     NaN       NaN\n",
       "7    ALA AVENUE MIDDLE SCH     528     320  0.606061\n",
       "8     ALBERTVILLE HIGH SCH    1052     471  0.447719\n",
       "9           EVANS ELEM SCH     600     394  0.656667\n",
       "10    ALBERTVILLE ELEM SCH     644     460  0.714286"
      ]
     },
     "execution_count": 27,
     "metadata": {},
     "output_type": "execute_result"
    }
   ],
   "source": [
    "#Percent Free/ Reduced Price Lunch\n",
    "school.ix[school.MEMBER<0, \"MEMBER\"]=np.nan\n",
    "school.ix[school.TOTFRL<0, \"TOTFRL\"]=np.nan\n",
    "\n",
    "trim_outliers(school, \"MEMBER\")\n",
    "trim_outliers(school, \"TOTFRL\")\n",
    "\n",
    "school[\"PCT_FRL\"]=(school.TOTFRL/ school.MEMBER)\n",
    "school[[\"SCHNAM\",\"MEMBER\",\"TOTFRL\",\"PCT_FRL\"]].head(5)"
   ]
  },
  {
   "cell_type": "code",
   "execution_count": 28,
   "metadata": {
    "collapsed": false
   },
   "outputs": [
    {
     "data": {
      "text/html": [
       "<div>\n",
       "<table border=\"1\" class=\"dataframe\">\n",
       "  <thead>\n",
       "    <tr style=\"text-align: right;\">\n",
       "      <th></th>\n",
       "      <th>TOTETH</th>\n",
       "      <th>WHITE</th>\n",
       "      <th>MEMBER</th>\n",
       "      <th>TOTFRL</th>\n",
       "      <th>PCT_MINORITY</th>\n",
       "      <th>PCT_FRL</th>\n",
       "    </tr>\n",
       "  </thead>\n",
       "  <tbody>\n",
       "    <tr>\n",
       "      <th>count</th>\n",
       "      <td>85055.000000</td>\n",
       "      <td>87643.000000</td>\n",
       "      <td>85079.000000</td>\n",
       "      <td>84432.000000</td>\n",
       "      <td>83769.000000</td>\n",
       "      <td>81173.000000</td>\n",
       "    </tr>\n",
       "    <tr>\n",
       "      <th>mean</th>\n",
       "      <td>496.739745</td>\n",
       "      <td>253.838561</td>\n",
       "      <td>501.916830</td>\n",
       "      <td>230.582563</td>\n",
       "      <td>0.429539</td>\n",
       "      <td>0.501508</td>\n",
       "    </tr>\n",
       "    <tr>\n",
       "      <th>std</th>\n",
       "      <td>296.669892</td>\n",
       "      <td>219.281396</td>\n",
       "      <td>299.107899</td>\n",
       "      <td>178.454440</td>\n",
       "      <td>0.349034</td>\n",
       "      <td>0.271451</td>\n",
       "    </tr>\n",
       "    <tr>\n",
       "      <th>min</th>\n",
       "      <td>46.000000</td>\n",
       "      <td>0.000000</td>\n",
       "      <td>46.000000</td>\n",
       "      <td>0.000000</td>\n",
       "      <td>0.000000</td>\n",
       "      <td>0.000000</td>\n",
       "    </tr>\n",
       "    <tr>\n",
       "      <th>25%</th>\n",
       "      <td>288.000000</td>\n",
       "      <td>65.000000</td>\n",
       "      <td>291.000000</td>\n",
       "      <td>88.000000</td>\n",
       "      <td>0.103371</td>\n",
       "      <td>0.288043</td>\n",
       "    </tr>\n",
       "    <tr>\n",
       "      <th>50%</th>\n",
       "      <td>446.000000</td>\n",
       "      <td>215.000000</td>\n",
       "      <td>452.000000</td>\n",
       "      <td>190.000000</td>\n",
       "      <td>0.336774</td>\n",
       "      <td>0.494828</td>\n",
       "    </tr>\n",
       "    <tr>\n",
       "      <th>75%</th>\n",
       "      <td>641.000000</td>\n",
       "      <td>384.000000</td>\n",
       "      <td>648.000000</td>\n",
       "      <td>335.000000</td>\n",
       "      <td>0.766917</td>\n",
       "      <td>0.718708</td>\n",
       "    </tr>\n",
       "    <tr>\n",
       "      <th>max</th>\n",
       "      <td>1659.000000</td>\n",
       "      <td>1018.000000</td>\n",
       "      <td>1674.000000</td>\n",
       "      <td>811.000000</td>\n",
       "      <td>1.000000</td>\n",
       "      <td>0.998440</td>\n",
       "    </tr>\n",
       "  </tbody>\n",
       "</table>\n",
       "</div>"
      ],
      "text/plain": [
       "             TOTETH         WHITE        MEMBER        TOTFRL  PCT_MINORITY  \\\n",
       "count  85055.000000  87643.000000  85079.000000  84432.000000  83769.000000   \n",
       "mean     496.739745    253.838561    501.916830    230.582563      0.429539   \n",
       "std      296.669892    219.281396    299.107899    178.454440      0.349034   \n",
       "min       46.000000      0.000000     46.000000      0.000000      0.000000   \n",
       "25%      288.000000     65.000000    291.000000     88.000000      0.103371   \n",
       "50%      446.000000    215.000000    452.000000    190.000000      0.336774   \n",
       "75%      641.000000    384.000000    648.000000    335.000000      0.766917   \n",
       "max     1659.000000   1018.000000   1674.000000    811.000000      1.000000   \n",
       "\n",
       "            PCT_FRL  \n",
       "count  81173.000000  \n",
       "mean       0.501508  \n",
       "std        0.271451  \n",
       "min        0.000000  \n",
       "25%        0.288043  \n",
       "50%        0.494828  \n",
       "75%        0.718708  \n",
       "max        0.998440  "
      ]
     },
     "execution_count": 28,
     "metadata": {},
     "output_type": "execute_result"
    }
   ],
   "source": [
    "school[[\"TOTETH\",\"WHITE\",\"MEMBER\",\"TOTFRL\",\"PCT_MINORITY\",\"PCT_FRL\"]].describe()"
   ]
  },
  {
   "cell_type": "markdown",
   "metadata": {},
   "source": [
    "#### Calculate Student-Teacher Ratio"
   ]
  },
  {
   "cell_type": "code",
   "execution_count": 29,
   "metadata": {
    "collapsed": false
   },
   "outputs": [
    {
     "name": "stdout",
     "output_type": "stream",
     "text": [
      "count    81926.000000\n",
      "mean        15.753743\n",
      "std          3.628499\n",
      "min          7.584526\n",
      "25%         13.238095\n",
      "50%         15.364765\n",
      "75%         17.935484\n",
      "max         27.011309\n",
      "Name: ST_RATIO, dtype: float64\n"
     ]
    }
   ],
   "source": [
    "#Student-Teacher Ratio\n",
    "school.ix[school.FTE<=0, \"FTE\"]=np.nan\n",
    "trim_outliers(school, \"FTE\")\n",
    "\n",
    "school[\"ST_RATIO\"]=school.MEMBER/ school.FTE\n",
    "trim_outliers(school, \"ST_RATIO\")\n",
    "print school[\"ST_RATIO\"].describe()"
   ]
  },
  {
   "cell_type": "markdown",
   "metadata": {},
   "source": [
    "#### Calculate By-State Percentile Performance on Statewide Standardized Tests\n",
    "#### Read in EdFacts Math and ELA Percent Proficient data for 2009-10 & merge together\n",
    "(These data can be downloaded [here](http://www2.ed.gov/about/inits/ed/edfacts/data-files/index.html))."
   ]
  },
  {
   "cell_type": "code",
   "execution_count": 31,
   "metadata": {
    "collapsed": false
   },
   "outputs": [
    {
     "name": "stdout",
     "output_type": "stream",
     "text": [
      "(91205, 3) (91142, 3) (91086, 4)\n",
      "Index([u'STNAM', u'NCESSCH', u'MATH_PROF', u'ELA_PROF'], dtype='object')\n"
     ]
    }
   ],
   "source": [
    "mathvars=[\"STNAM\",\"NCESSCH\",\"ALL_MTH00pctprof_0910\"]\n",
    "elavars=[\"STNAM\",\"NCESSCH\",\"ALL_RLA00pctprof_0910\"]\n",
    "\n",
    "math=pd.read_csv(\"data/EDfacts/2009-10/math-achievement-sch-sy2009-10.csv\")[mathvars]\n",
    "ela=pd.read_csv(\"data/EDfacts/2009-10/rla-achievement-sch-sy2009-10.csv\")[elavars]\n",
    "\n",
    "asmt=pd.merge(math,ela,on=[\"STNAM\",\"NCESSCH\"])\n",
    "asmt.rename(columns={\"ALL_MTH00pctprof_0910\":\"MATH_PROF\",\"ALL_RLA00pctprof_0910\":\"ELA_PROF\"}, inplace=True)\n",
    "\n",
    "print math.shape, ela.shape, asmt.shape\n",
    "print asmt.columns"
   ]
  },
  {
   "cell_type": "markdown",
   "metadata": {},
   "source": [
    "#### Clean Proficiency Rate Data"
   ]
  },
  {
   "cell_type": "code",
   "execution_count": 32,
   "metadata": {
    "collapsed": false
   },
   "outputs": [
    {
     "name": "stdout",
     "output_type": "stream",
     "text": [
      "PS      1392\n",
      "LT50    1360\n",
      "GE50     780\n",
      "n/a      323\n",
      "Name: MATH_PROF, dtype: int64\n",
      "PS      1401\n",
      "GE50    1118\n",
      "LT50    1003\n",
      "n/a      331\n",
      "NaN        1\n",
      "Name: ELA_PROF, dtype: int64\n"
     ]
    }
   ],
   "source": [
    "def clean_score(raw):\n",
    "    raw=str(raw)\n",
    "    \n",
    "    if raw in [\"PS\",\"n/a\",\"GE50\",\"GE40\",\"GE30\",\"LT50\",\"LT40\",\"LT30\"]:\n",
    "        clean=np.nan\n",
    "        \n",
    "    elif raw[:2] in [\"GE\",\"GT\",\"LE\",\"LT\"]: \n",
    "        clean=float(raw[2:])\n",
    "\n",
    "    else:\n",
    "        split=str(raw).split(\"-\")\n",
    "    \n",
    "        if len(split)==1:\n",
    "            clean=float(split[0])\n",
    "    \n",
    "        elif len(split)==2:\n",
    "            clean=np.mean([float(split[0]),float(split[1])])\n",
    "        \n",
    "        else:\n",
    "            print \"ERROR CHECK RANGE: \"+split\n",
    "    \n",
    "    return clean\n",
    "\n",
    "asmt[\"MATH_PROF_CLN\"]=asmt.MATH_PROF.apply(clean_score)\n",
    "asmt[\"ELA_PROF_CLN\"]=asmt.ELA_PROF.apply(clean_score)\n",
    "\n",
    "print asmt[asmt.MATH_PROF_CLN.isnull()][\"MATH_PROF\"].value_counts(dropna=False)\n",
    "print asmt[asmt.ELA_PROF_CLN.isnull()][\"ELA_PROF\"].value_counts(dropna=False)"
   ]
  },
  {
   "cell_type": "markdown",
   "metadata": {},
   "source": [
    "#### Calculate By-State Percentile Ranks in Math and ELA"
   ]
  },
  {
   "cell_type": "code",
   "execution_count": 33,
   "metadata": {
    "collapsed": false
   },
   "outputs": [
    {
     "name": "stdout",
     "output_type": "stream",
     "text": [
      "(91086, 6)\n",
      "(91086, 9)\n",
      "            NCESSCH  MATH_PROF_CLN  ELA_PROF_CLN     MATH_RANK      ELA_RANK  \\\n",
      "count  9.108600e+04   87231.000000  87232.000000  87231.000000  87232.000000   \n",
      "mean   2.899319e+11      69.167251     70.629838      0.500006      0.500006   \n",
      "std    1.676538e+11      21.631216     19.878451      0.288579      0.288566   \n",
      "min    1.000050e+10       1.000000      3.000000      0.000722      0.000017   \n",
      "25%    1.302940e+11      56.000000     57.000000      0.248816      0.238559   \n",
      "50%    2.905680e+11      74.500000     76.000000      0.499249      0.504379   \n",
      "75%    4.212210e+11      87.000000     87.000000      0.765611      0.762897   \n",
      "max    7.200030e+11      99.000000     99.000000      0.996687      0.997128   \n",
      "\n",
      "       in_ranks  \n",
      "count     91086  \n",
      "mean          1  \n",
      "std           0  \n",
      "min           1  \n",
      "25%           1  \n",
      "50%           1  \n",
      "75%           1  \n",
      "max           1  \n"
     ]
    }
   ],
   "source": [
    "ranks=pd.DataFrame()\n",
    "\n",
    "for state in asmt.STNAM.unique():\n",
    "    state_ranks=asmt[asmt.STNAM==state].copy()\n",
    "    \n",
    "    state_ranks[\"MATH_RANK\"]=asmt.MATH_PROF_CLN.rank(pct=True)\n",
    "    state_ranks[\"ELA_RANK\"]=asmt.ELA_PROF_CLN.rank(pct=True)\n",
    "    \n",
    "    ranks=pd.concat([ranks,state_ranks], axis=0)\n",
    "\n",
    "ranks[\"in_ranks\"]=1 #Flag schools that are in the EdFacts Data\n",
    "\n",
    "print asmt.shape\n",
    "print ranks.shape\n",
    "print ranks.describe()"
   ]
  },
  {
   "cell_type": "markdown",
   "metadata": {},
   "source": [
    "#### Match State Assmt Data to NCES CCD Data"
   ]
  },
  {
   "cell_type": "code",
   "execution_count": 34,
   "metadata": {
    "collapsed": false
   },
   "outputs": [
    {
     "name": "stdout",
     "output_type": "stream",
     "text": [
      "1    85870\n",
      "0     5099\n",
      "Name: in_ranks, dtype: int64\n",
      "(90969, 42) (90969, 50)\n"
     ]
    }
   ],
   "source": [
    "merged=pd.merge(school,ranks,on=\"NCESSCH\",how=\"left\")\n",
    "merged.ix[merged.in_ranks.isnull(), \"in_ranks\"]=0 #if record is not in EdFacts data, set in_ranks=0\n",
    "\n",
    "print merged.in_ranks.value_counts()\n",
    "print school.shape, merged.shape\n",
    "\n",
    "merged[\"intercept\"]=1 #add intercept term for modelling"
   ]
  },
  {
   "cell_type": "markdown",
   "metadata": {},
   "source": [
    "#### Engineer Label (closed within five years of 2009-10 (base year))\n",
    "Use data from the 2010-11 - 2014-15 NCES-CCD files. Again, these can be downloaded [here](https://nces.ed.gov/ccd/pubschuniv.asp). Again, you may have to adjust file paths depending on where data were saved."
   ]
  },
  {
   "cell_type": "code",
   "execution_count": 35,
   "metadata": {
    "collapsed": false
   },
   "outputs": [
    {
     "name": "stderr",
     "output_type": "stream",
     "text": [
      "/Users/willhuguenin/anaconda/lib/python2.7/site-packages/IPython/core/interactiveshell.py:3006: DtypeWarning: Columns (5,6,9,18,22,25,27,53,54,55) have mixed types. Specify dtype option on import or set low_memory=False.\n",
      "  if self.run_code(code, result):\n",
      "/Users/willhuguenin/anaconda/lib/python2.7/site-packages/IPython/core/interactiveshell.py:3006: DtypeWarning: Columns (5,6,9,22,23,26,28,29,67,68,69) have mixed types. Specify dtype option on import or set low_memory=False.\n",
      "  if self.run_code(code, result):\n",
      "/Users/willhuguenin/anaconda/lib/python2.7/site-packages/IPython/core/interactiveshell.py:3006: DtypeWarning: Columns (5,6,9,22,23,26,28,54,55,56) have mixed types. Specify dtype option on import or set low_memory=False.\n",
      "  if self.run_code(code, result):\n",
      "/Users/willhuguenin/anaconda/lib/python2.7/site-packages/IPython/core/interactiveshell.py:3006: DtypeWarning: Columns (9,22) have mixed types. Specify dtype option on import or set low_memory=False.\n",
      "  if self.run_code(code, result):\n"
     ]
    },
    {
     "name": "stdout",
     "output_type": "stream",
     "text": [
      "(90969, 56)\n",
      "Index([u'NCESSCH', u'LEAID', u'LEANM', u'SCHNAM', u'LSTATE', u'LEVEL', u'TYPE',\n",
      "       u'STATUS', u'ULOCAL', u'FTE', u'TITLEI', u'STITLI', u'MAGNET',\n",
      "       u'CHARTR', u'SHARED', u'TOTFRL', u'MEMBER', u'WHITE', u'TOTETH',\n",
      "       u'NEW_ENGLAND', u'MID_ATLANTIC', u'EAST_NORTH_CENTL',\n",
      "       u'WEST_NORTH_CENTL', u'SOUTH_ATLANTIC', u'EAST_SOUTH_CENTL',\n",
      "       u'WEST_SOUTH_CENTL', u'MOUNTAIN', u'PACIFIC', u'CITY', u'SUBURB',\n",
      "       u'TOWN', u'RURAL', u'ELEM', u'MIDDLE', u'HIGH', u'OTHER', u'T1_ALL',\n",
      "       u'T1_SOME', u'T1_NONE', u'PCT_MINORITY', u'PCT_FRL', u'ST_RATIO',\n",
      "       u'STNAM', u'MATH_PROF', u'ELA_PROF', u'MATH_PROF_CLN', u'ELA_PROF_CLN',\n",
      "       u'MATH_RANK', u'ELA_RANK', u'in_ranks', u'intercept', u'CLOSED10',\n",
      "       u'CLOSED11', u'CLOSED12', u'CLOSED13', u'CLOSED14'],\n",
      "      dtype='object')\n"
     ]
    }
   ],
   "source": [
    "def flag_closure(yr, data, closed):\n",
    "    df=pd.read_table(\"data/ccd/\"+yr+\"/\"+data)[[\"NCESSCH\",\"STATUS\"]]\n",
    "    \n",
    "    df[closed]=0\n",
    "    df.ix[df[\"STATUS\"].isin([2,6]), closed]=1\n",
    "  \n",
    "    return df[[\"NCESSCH\",closed]]\n",
    "    \n",
    "closed10=flag_closure(\"2010-11\", \"sc102a.txt\", \"CLOSED10\")\n",
    "closed11=flag_closure(\"2011-12\", \"sc111a_supp.txt\", \"CLOSED11\")\n",
    "closed12=flag_closure(\"2012-13\", \"sc122a.txt\", \"CLOSED12\")\n",
    "closed13=flag_closure(\"2013-14\", \"sc132a.txt\", \"CLOSED13\")\n",
    "closed14=flag_closure(\"2014-15\", \"Sch14pre.txt\", \"CLOSED14\")\n",
    "\n",
    "merged=pd.merge(merged, closed10, on=\"NCESSCH\", how=\"left\")\n",
    "merged=pd.merge(merged, closed11, on=\"NCESSCH\", how=\"left\")\n",
    "merged=pd.merge(merged, closed12, on=\"NCESSCH\", how=\"left\")\n",
    "merged=pd.merge(merged, closed13, on=\"NCESSCH\", how=\"left\")\n",
    "merged=pd.merge(merged, closed14, on=\"NCESSCH\", how=\"left\")\n",
    "\n",
    "print merged.shape\n",
    "print merged.columns"
   ]
  },
  {
   "cell_type": "markdown",
   "metadata": {},
   "source": [
    "#### If a school closed during any year during the five year period, flag as closed. Otherwise, flag as not closed"
   ]
  },
  {
   "cell_type": "code",
   "execution_count": 36,
   "metadata": {
    "collapsed": false
   },
   "outputs": [
    {
     "name": "stdout",
     "output_type": "stream",
     "text": [
      " 0     85046\n",
      " 1      5667\n",
      "NaN      256\n",
      "Name: CLOSED, dtype: int64\n"
     ]
    }
   ],
   "source": [
    "merged[\"CLOSED\"]=merged[[\"CLOSED10\",\"CLOSED11\",\"CLOSED12\",\"CLOSED13\",\"CLOSED14\"]].max(axis=1)\n",
    "print merged.CLOSED.value_counts(dropna=False)"
   ]
  },
  {
   "cell_type": "markdown",
   "metadata": {},
   "source": [
    "#### Remove data with missing label (only ~2.8%). Pickle dataframe for modelling."
   ]
  },
  {
   "cell_type": "code",
   "execution_count": 37,
   "metadata": {
    "collapsed": false
   },
   "outputs": [],
   "source": [
    "merged=merged[merged.CLOSED.notnull()]\n",
    "merged.to_pickle(\"data/school_closure_clean.pkl\")"
   ]
  },
  {
   "cell_type": "code",
   "execution_count": null,
   "metadata": {
    "collapsed": true
   },
   "outputs": [],
   "source": []
  }
 ],
 "metadata": {
  "kernelspec": {
   "display_name": "Python 2",
   "language": "python",
   "name": "python2"
  },
  "language_info": {
   "codemirror_mode": {
    "name": "ipython",
    "version": 2
   },
   "file_extension": ".py",
   "mimetype": "text/x-python",
   "name": "python",
   "nbconvert_exporter": "python",
   "pygments_lexer": "ipython2",
   "version": "2.7.10"
  }
 },
 "nbformat": 4,
 "nbformat_minor": 0
}
