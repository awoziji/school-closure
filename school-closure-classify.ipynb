{
 "cells": [
  {
   "cell_type": "markdown",
   "metadata": {},
   "source": [
    "####  Predict School Closure in NCES-CCD Data:"
   ]
  },
  {
   "cell_type": "code",
   "execution_count": 1,
   "metadata": {
    "collapsed": false
   },
   "outputs": [],
   "source": [
    "import numpy as np\n",
    "import pandas as pd\n",
    "\n",
    "from sklearn.preprocessing import Imputer, normalize\n",
    "from sklearn.cross_validation import train_test_split\n",
    "from sklearn.neighbors import KNeighborsClassifier\n",
    "from sklearn.metrics import accuracy_score, precision_score, recall_score, f1_score, confusion_matrix, precision_recall_curve\n",
    "from sklearn.linear_model import LogisticRegression, SGDClassifier\n",
    "from sklearn.naive_bayes import BernoulliNB\n",
    "from sklearn.svm import SVC, LinearSVC\n",
    "from sklearn.tree import DecisionTreeClassifier, export_graphviz\n",
    "from sklearn.ensemble import BaggingClassifier, RandomForestClassifier, ExtraTreesClassifier\n",
    "\n",
    "from matplotlib import pyplot as plt\n",
    "import seaborn as sns\n",
    "%matplotlib inline"
   ]
  },
  {
   "cell_type": "code",
   "execution_count": null,
   "metadata": {
    "collapsed": false
   },
   "outputs": [],
   "source": [
    "#Read In Data\n",
    "df=pd.read_pickle(\"data/school_closure_clean.pkl\")\n",
    "\n",
    "df.set_index(\"NCESSCH\", inplace=True)\n",
    "df.drop([\"LEAID\",\"LEANM\",\"SCHNAM\",\"LEVEL\",\"LSTATE\",\"TYPE\",\"STATUS\",\"ULOCAL\",\"FTE\",\"TITLEI\",\"STITLI\",\"TOTFRL\",\"WHITE\",\\\n",
    "         \"TOTETH\",\"STNAM\",\"MATH_PROF\",\"ELA_PROF\",\"MATH_PROF_CLN\",\"ELA_PROF_CLN\",\"CLOSED10\",\"CLOSED11\",\\\n",
    "        \"CLOSED12\",\"CLOSED13\",\"CLOSED14\",\"in_ranks\"], axis=1, inplace=True)\n",
    "\n",
    "print df.info()"
   ]
  },
  {
   "cell_type": "code",
   "execution_count": null,
   "metadata": {
    "collapsed": false
   },
   "outputs": [],
   "source": [
    "#Deal with Feature Missing Data via Casewise Deletion or Means Imputation\n",
    "def means_impute(df):\n",
    "    imputed=Imputer().fit_transform(df[df.columns])\n",
    "    new_df=pd.DataFrame(imputed, columns=[df.columns])\n",
    "    \n",
    "    return new_df\n",
    "\n",
    "def casewise_delete(df):\n",
    "    new_df=df.copy()\n",
    "    \n",
    "    for col in df.columns:\n",
    "        new_df=new_df[new_df[col].notnull()]\n",
    "        \n",
    "    return new_df\n",
    "\n",
    "clean=means_impute(df)\n",
    "print clean.shape"
   ]
  },
  {
   "cell_type": "markdown",
   "metadata": {},
   "source": [
    "##### Test Classifiers on All Data"
   ]
  },
  {
   "cell_type": "code",
   "execution_count": null,
   "metadata": {
    "collapsed": false
   },
   "outputs": [],
   "source": [
    "#Train/ Test Split\n",
    "train, test = train_test_split(clean, test_size=0.3, random_state=4444)\n",
    "\n",
    "print type(train), type(test)\n",
    "print train.shape, test.shape\n",
    "\n",
    "print train.columns"
   ]
  },
  {
   "cell_type": "code",
   "execution_count": null,
   "metadata": {
    "collapsed": false
   },
   "outputs": [],
   "source": [
    "##Write Functions\n",
    "##Function to Upsample and/ or Downsample\n",
    "def sampler(df, r, upsample, features, label):\n",
    "    nlabel = df[label].value_counts()[1]\n",
    "    nsamp = int(round(nlabel*r))\n",
    "    \n",
    "    if upsample==True:\n",
    "        df_1 = df[df[label]==1].sample(n=nsamp, replace=True).copy()\n",
    "        df_0 = df[df[label]==0].sample(n=nsamp, replace=True).copy()\n",
    "    else:\n",
    "        df_1 = df[df[label]==1].copy()\n",
    "        df_0 = df[df[label]==0].sample(n=nsamp).copy()\n",
    "        \n",
    "    return pd.concat([df_1, df_0], axis=0)\n",
    "\n",
    "\n",
    "def plot_PR_curve_noadj(classname, classifier, features, label):\n",
    "    train_X=train[features]\n",
    "    train_y=train[label]\n",
    "    \n",
    "    test_X=test[features]\n",
    "    test_y=test[label]\n",
    "    \n",
    "    model=classifier.fit(train_X, train_y)\n",
    "    \n",
    "    pr1 = [x[1] for x in model.predict_proba(test_X)]\n",
    "    print classname, np.min(pr1), np.median(pr1), np.max(pr1)\n",
    "    \n",
    "    prec, recall, t = precision_recall_curve(test_y, pr1)\n",
    "    plt.plot(prec, recall, label=classname)\n",
    "    \n",
    "\n",
    "def plot_PR_curve(classname, classifier, r, upsample, features, label):\n",
    "    strain=sampler(train, r, upsample, features, label)\n",
    "    print strain.CLOSED.value_counts()\n",
    "    \n",
    "    strain_X=strain[features]\n",
    "    strain_y=strain[label]\n",
    "    \n",
    "    test_X=test[features]\n",
    "    test_y=test[label]\n",
    "    \n",
    "    model=classifier.fit(strain_X, strain_y)\n",
    "\n",
    "    pr1 = [x[1] for x in model.predict_proba(test_X)]\n",
    "    print classname, np.min(pr1), np.median(pr1), np.max(pr1)\n",
    "    \n",
    "    prec, recall, t = precision_recall_curve(test_y, pr1)\n",
    "    plt.plot(prec, recall, label=classname)"
   ]
  },
  {
   "cell_type": "markdown",
   "metadata": {},
   "source": [
    "#### (1) Straight Up (Multiple Classifier)"
   ]
  },
  {
   "cell_type": "code",
   "execution_count": null,
   "metadata": {
    "collapsed": false
   },
   "outputs": [],
   "source": [
    "f = clean.columns[:-2].tolist()\n",
    "l = clean.columns[-1]\n",
    "\n",
    "plt.figure(figsize=(20,10))\n",
    "plot_PR_curve_noadj(\"Bagging Classifier\", BaggingClassifier(n_estimators=500), f, l)\n",
    "plot_PR_curve_noadj(\"Random Forest\", RandomForestClassifier(n_estimators=500), f, l)\n",
    "plot_PR_curve_noadj(\"Extra Trees Classifier\", ExtraTreesClassifier(n_estimators=500), f, l)\n",
    "plot_PR_curve_noadj(\"Bernoulli Naive Bayes\", BernoulliNB(), f, l)\n",
    "\n",
    "plt.legend(loc=\"best\", fontsize=24)\n",
    "plt.xlabel(\"Precision\", fontsize=26)\n",
    "plt.ylabel(\"Recall\", fontsize=26)\n",
    "plt.xticks(fontsize=22)\n",
    "plt.yticks(fontsize=22)\n",
    "plt.title(\"Precision-Recall Curves\", fontsize=32)\n",
    "plt.savefig(\"graphics/Precision-Recall-Overall.png\")"
   ]
  },
  {
   "cell_type": "markdown",
   "metadata": {},
   "source": [
    "#### (2) With 1:1 Downsampling (Multiple Classifers)"
   ]
  },
  {
   "cell_type": "code",
   "execution_count": null,
   "metadata": {
    "collapsed": false
   },
   "outputs": [],
   "source": [
    "plt.figure(figsize=(20,10))\n",
    "plot_PR_curve(\"Bagging Classifier\", BaggingClassifier(n_estimators=500), 1.0, False, f, l)\n",
    "plot_PR_curve(\"Random Forest\", RandomForestClassifier(n_estimators=500), 1.0, False, f, l)\n",
    "plot_PR_curve(\"Extra Trees Classifier\", ExtraTreesClassifier(n_estimators=500), 1.0, False, f, l)\n",
    "plot_PR_curve(\"Bernoulli Naive Bayes\", BernoulliNB(), 1.0, False, f, l)\n",
    "\n",
    "plt.legend(loc=\"best\", fontsize=24)\n",
    "plt.xlabel(\"Precision\", fontsize=26)\n",
    "plt.ylabel(\"Recall\", fontsize=26)\n",
    "plt.xticks(fontsize=22)\n",
    "plt.yticks(fontsize=22)\n",
    "plt.title(\"Precision-Recall (1:1 Downsampling)\", fontsize=32)\n",
    "plt.savefig(\"graphics/precision-recall-1to1downsample.png\")"
   ]
  },
  {
   "cell_type": "markdown",
   "metadata": {},
   "source": [
    "#### (3) Random Forest Varying  Upsampling/ Downsampling"
   ]
  },
  {
   "cell_type": "code",
   "execution_count": null,
   "metadata": {
    "collapsed": false
   },
   "outputs": [],
   "source": [
    "plt.figure(figsize=(20,10))\n",
    "\n",
    "plt.subplot(1,2,1)\n",
    "plot_PR_curve(\"10:1\", RandomForestClassifier(n_estimators=500), 10.0, False, f, l)\n",
    "plot_PR_curve(\"5:1\", RandomForestClassifier(n_estimators=500), 5.0, False, f, l)\n",
    "plot_PR_curve(\"2:1\", RandomForestClassifier(n_estimators=500), 2.0, False, f, l)\n",
    "plot_PR_curve(\"1:1\", RandomForestClassifier(n_estimators=500), 1.0, False, f, l)\n",
    "\n",
    "plt.legend(loc=\"best\", fontsize=24)\n",
    "plt.xlabel(\"Precision\", fontsize=26)\n",
    "plt.ylabel(\"Recall\", fontsize=26)\n",
    "plt.xticks(fontsize=22)\n",
    "plt.yticks(fontsize=22)\n",
    "plt.title(\"P-R with Downsamplling\", fontsize=32)\n",
    "\n",
    "plt.subplot(1,2,2)\n",
    "plot_PR_curve(\"10:10\", RandomForestClassifier(n_estimators=500), 10.0, True, f, l)\n",
    "plot_PR_curve(\"5:5\", RandomForestClassifier(n_estimators=500), 5.0, True, f, l)\n",
    "plot_PR_curve(\"2:2\", RandomForestClassifier(n_estimators=500), 2.0, True, f, l)\n",
    "plot_PR_curve(\"1:1\", RandomForestClassifier(n_estimators=500), 1.0, True, f, l)\n",
    "\n",
    "plt.legend(loc=\"best\", fontsize=24)\n",
    "plt.xlabel(\"Precision\", fontsize=26)\n",
    "plt.ylabel(\"Recall\", fontsize=26)\n",
    "plt.xticks(fontsize=22)\n",
    "plt.yticks(fontsize=22)\n",
    "plt.title(\"P-R with Upsampling\", fontsize=32)\n",
    "\n",
    "plt.savefig(\"graphics/precision-recall-up-down-sample.png\")"
   ]
  },
  {
   "cell_type": "code",
   "execution_count": null,
   "metadata": {
    "collapsed": true
   },
   "outputs": [],
   "source": []
  }
 ],
 "metadata": {
  "kernelspec": {
   "display_name": "Python 2",
   "language": "python",
   "name": "python2"
  },
  "language_info": {
   "codemirror_mode": {
    "name": "ipython",
    "version": 2
   },
   "file_extension": ".py",
   "mimetype": "text/x-python",
   "name": "python",
   "nbconvert_exporter": "python",
   "pygments_lexer": "ipython2",
   "version": "2.7.10"
  }
 },
 "nbformat": 4,
 "nbformat_minor": 0
}
